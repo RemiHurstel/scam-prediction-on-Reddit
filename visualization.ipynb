{
 "cells": [
  {
   "cell_type": "code",
   "execution_count": 96,
   "metadata": {},
   "outputs": [],
   "source": [
    "import pandas as pd \n",
    "import matplotlib.pyplot as plt\n",
    "import seaborn as sns\n",
    "from langdetect import detect\n",
    "import re\n",
    "import nltk\n",
    "from nltk.corpus import stopwords\n",
    "from nltk.tokenize import word_tokenize\n",
    "from nltk.stem import WordNetLemmatizer"
   ]
  },
  {
   "cell_type": "code",
   "execution_count": 97,
   "metadata": {},
   "outputs": [
    {
     "name": "stderr",
     "output_type": "stream",
     "text": [
      "[nltk_data] Downloading package stopwords to\n",
      "[nltk_data]     C:\\Users\\Maroua\\AppData\\Roaming\\nltk_data...\n",
      "[nltk_data]   Package stopwords is already up-to-date!\n",
      "[nltk_data] Downloading package punkt to\n",
      "[nltk_data]     C:\\Users\\Maroua\\AppData\\Roaming\\nltk_data...\n",
      "[nltk_data]   Package punkt is already up-to-date!\n",
      "[nltk_data] Downloading package wordnet to\n",
      "[nltk_data]     C:\\Users\\Maroua\\AppData\\Roaming\\nltk_data...\n",
      "[nltk_data]   Package wordnet is already up-to-date!\n",
      "[nltk_data] Downloading package omw-1.4 to\n",
      "[nltk_data]     C:\\Users\\Maroua\\AppData\\Roaming\\nltk_data...\n",
      "[nltk_data]   Package omw-1.4 is already up-to-date!\n"
     ]
    },
    {
     "data": {
      "text/plain": [
       "True"
      ]
     },
     "execution_count": 97,
     "metadata": {},
     "output_type": "execute_result"
    }
   ],
   "source": [
    "nltk.download('stopwords')\n",
    "import nltk\n",
    "nltk.download('punkt')\n",
    "import nltk\n",
    "nltk.download('wordnet')\n",
    "import nltk\n",
    "nltk.download('omw-1.4')"
   ]
  },
  {
   "cell_type": "code",
   "execution_count": 30,
   "metadata": {},
   "outputs": [],
   "source": [
    "import warnings\n",
    "warnings.filterwarnings('ignore')"
   ]
  },
  {
   "attachments": {},
   "cell_type": "markdown",
   "metadata": {},
   "source": [
    "### Loading the dataset"
   ]
  },
  {
   "attachments": {},
   "cell_type": "markdown",
   "metadata": {},
   "source": [
    "The original data contains 147843 examples that we split into train and test datasets as follows :\n",
    "\n",
    "- The training dataset contains 67% of the original dataset. It is accessible in CSV format in data/train.csv\n",
    "\n",
    "- The testing dataset contains 33% of the original dataset. It is accessible in CSV format in data/test.csv"
   ]
  },
  {
   "cell_type": "code",
   "execution_count": 41,
   "metadata": {},
   "outputs": [],
   "source": [
    "data_train = pd.read_csv('data/train.csv')\n",
    "data_test = pd.read_csv('data/test.csv')\n",
    "\n",
    "\n",
    "del data_train['Unnamed: 0']\n",
    "del data_test['Unnamed: 0']"
   ]
  },
  {
   "attachments": {},
   "cell_type": "markdown",
   "metadata": {},
   "source": [
    "### Data insights"
   ]
  },
  {
   "cell_type": "code",
   "execution_count": 42,
   "metadata": {},
   "outputs": [
    {
     "data": {
      "text/html": [
       "<div>\n",
       "<style scoped>\n",
       "    .dataframe tbody tr th:only-of-type {\n",
       "        vertical-align: middle;\n",
       "    }\n",
       "\n",
       "    .dataframe tbody tr th {\n",
       "        vertical-align: top;\n",
       "    }\n",
       "\n",
       "    .dataframe thead th {\n",
       "        text-align: right;\n",
       "    }\n",
       "</style>\n",
       "<table border=\"1\" class=\"dataframe\">\n",
       "  <thead>\n",
       "    <tr style=\"text-align: right;\">\n",
       "      <th></th>\n",
       "      <th>name</th>\n",
       "      <th>comment_karma</th>\n",
       "      <th>link_karma</th>\n",
       "      <th>type</th>\n",
       "      <th>body</th>\n",
       "      <th>subreddit</th>\n",
       "      <th>label</th>\n",
       "    </tr>\n",
       "  </thead>\n",
       "  <tbody>\n",
       "    <tr>\n",
       "      <th>0</th>\n",
       "      <td>clovehoney</td>\n",
       "      <td>1580</td>\n",
       "      <td>7</td>\n",
       "      <td>submission</td>\n",
       "      <td>Practically been awake almost 2 days straight ...</td>\n",
       "      <td>Concerta</td>\n",
       "      <td>0</td>\n",
       "    </tr>\n",
       "    <tr>\n",
       "      <th>1</th>\n",
       "      <td>leafietheleaf</td>\n",
       "      <td>1411</td>\n",
       "      <td>5340</td>\n",
       "      <td>comment</td>\n",
       "      <td>I think Japanese use wwww and Indonesians use ...</td>\n",
       "      <td>NoStupidQuestions</td>\n",
       "      <td>0</td>\n",
       "    </tr>\n",
       "    <tr>\n",
       "      <th>2</th>\n",
       "      <td>laceonajersey</td>\n",
       "      <td>6531</td>\n",
       "      <td>1921</td>\n",
       "      <td>comment</td>\n",
       "      <td>The only thing I would change about what you'v...</td>\n",
       "      <td>lgbt</td>\n",
       "      <td>0</td>\n",
       "    </tr>\n",
       "    <tr>\n",
       "      <th>3</th>\n",
       "      <td>onenonly98</td>\n",
       "      <td>17</td>\n",
       "      <td>7</td>\n",
       "      <td>comment</td>\n",
       "      <td>So you took 75ug and now you wanna take 200ug?...</td>\n",
       "      <td>LSD</td>\n",
       "      <td>1</td>\n",
       "    </tr>\n",
       "    <tr>\n",
       "      <th>4</th>\n",
       "      <td>0077700</td>\n",
       "      <td>416</td>\n",
       "      <td>1</td>\n",
       "      <td>comment</td>\n",
       "      <td>Yea, I'm sure there are but you can tell by lo...</td>\n",
       "      <td>funny</td>\n",
       "      <td>1</td>\n",
       "    </tr>\n",
       "  </tbody>\n",
       "</table>\n",
       "</div>"
      ],
      "text/plain": [
       "            name  comment_karma  link_karma        type  \\\n",
       "0     clovehoney           1580           7  submission   \n",
       "1  leafietheleaf           1411        5340     comment   \n",
       "2  laceonajersey           6531        1921     comment   \n",
       "3     onenonly98             17           7     comment   \n",
       "4        0077700            416           1     comment   \n",
       "\n",
       "                                                body          subreddit  label  \n",
       "0  Practically been awake almost 2 days straight ...           Concerta      0  \n",
       "1  I think Japanese use wwww and Indonesians use ...  NoStupidQuestions      0  \n",
       "2  The only thing I would change about what you'v...               lgbt      0  \n",
       "3  So you took 75ug and now you wanna take 200ug?...                LSD      1  \n",
       "4  Yea, I'm sure there are but you can tell by lo...              funny      1  "
      ]
     },
     "execution_count": 42,
     "metadata": {},
     "output_type": "execute_result"
    }
   ],
   "source": [
    "data_train.head()"
   ]
  },
  {
   "cell_type": "code",
   "execution_count": 43,
   "metadata": {},
   "outputs": [
    {
     "data": {
      "text/plain": [
       "(99054, 7)"
      ]
     },
     "execution_count": 43,
     "metadata": {},
     "output_type": "execute_result"
    }
   ],
   "source": [
    "data_train.shape"
   ]
  },
  {
   "cell_type": "code",
   "execution_count": 44,
   "metadata": {},
   "outputs": [
    {
     "data": {
      "text/html": [
       "<div>\n",
       "<style scoped>\n",
       "    .dataframe tbody tr th:only-of-type {\n",
       "        vertical-align: middle;\n",
       "    }\n",
       "\n",
       "    .dataframe tbody tr th {\n",
       "        vertical-align: top;\n",
       "    }\n",
       "\n",
       "    .dataframe thead th {\n",
       "        text-align: right;\n",
       "    }\n",
       "</style>\n",
       "<table border=\"1\" class=\"dataframe\">\n",
       "  <thead>\n",
       "    <tr style=\"text-align: right;\">\n",
       "      <th></th>\n",
       "      <th>name</th>\n",
       "      <th>comment_karma</th>\n",
       "      <th>link_karma</th>\n",
       "      <th>type</th>\n",
       "      <th>body</th>\n",
       "      <th>subreddit</th>\n",
       "      <th>label</th>\n",
       "    </tr>\n",
       "  </thead>\n",
       "  <tbody>\n",
       "    <tr>\n",
       "      <th>0</th>\n",
       "      <td>namelesspie1</td>\n",
       "      <td>25</td>\n",
       "      <td>12</td>\n",
       "      <td>submission</td>\n",
       "      <td>Need help with runes : Hey, can somebody tell ...</td>\n",
       "      <td>leagueoflegends</td>\n",
       "      <td>1</td>\n",
       "    </tr>\n",
       "    <tr>\n",
       "      <th>1</th>\n",
       "      <td>ryanchoi</td>\n",
       "      <td>119</td>\n",
       "      <td>29</td>\n",
       "      <td>comment</td>\n",
       "      <td>welp, seems that i didn't get it.</td>\n",
       "      <td>Primedice</td>\n",
       "      <td>1</td>\n",
       "    </tr>\n",
       "    <tr>\n",
       "      <th>2</th>\n",
       "      <td>kynrto</td>\n",
       "      <td>14327</td>\n",
       "      <td>12419</td>\n",
       "      <td>comment</td>\n",
       "      <td>Totally understandable, they are both really good</td>\n",
       "      <td>DanMachi</td>\n",
       "      <td>0</td>\n",
       "    </tr>\n",
       "    <tr>\n",
       "      <th>3</th>\n",
       "      <td>purple_dragon_9</td>\n",
       "      <td>38094</td>\n",
       "      <td>10439</td>\n",
       "      <td>submission</td>\n",
       "      <td>(image contains spoiler) this subreddit be lik...</td>\n",
       "      <td>BungouStrayDogs</td>\n",
       "      <td>0</td>\n",
       "    </tr>\n",
       "    <tr>\n",
       "      <th>4</th>\n",
       "      <td>bigfeetdonthate</td>\n",
       "      <td>98</td>\n",
       "      <td>840</td>\n",
       "      <td>submission</td>\n",
       "      <td>POTENTIAL TRADING OPPORTUNITY - PrimeCoin ($XP...</td>\n",
       "      <td>primecoin</td>\n",
       "      <td>1</td>\n",
       "    </tr>\n",
       "  </tbody>\n",
       "</table>\n",
       "</div>"
      ],
      "text/plain": [
       "              name  comment_karma  link_karma        type  \\\n",
       "0     namelesspie1             25          12  submission   \n",
       "1         ryanchoi            119          29     comment   \n",
       "2           kynrto          14327       12419     comment   \n",
       "3  purple_dragon_9          38094       10439  submission   \n",
       "4  bigfeetdonthate             98         840  submission   \n",
       "\n",
       "                                                body        subreddit  label  \n",
       "0  Need help with runes : Hey, can somebody tell ...  leagueoflegends      1  \n",
       "1                  welp, seems that i didn't get it.        Primedice      1  \n",
       "2  Totally understandable, they are both really good         DanMachi      0  \n",
       "3  (image contains spoiler) this subreddit be lik...  BungouStrayDogs      0  \n",
       "4  POTENTIAL TRADING OPPORTUNITY - PrimeCoin ($XP...        primecoin      1  "
      ]
     },
     "execution_count": 44,
     "metadata": {},
     "output_type": "execute_result"
    }
   ],
   "source": [
    "data_test.head()"
   ]
  },
  {
   "cell_type": "code",
   "execution_count": 45,
   "metadata": {},
   "outputs": [
    {
     "data": {
      "text/plain": [
       "(48789, 7)"
      ]
     },
     "execution_count": 45,
     "metadata": {},
     "output_type": "execute_result"
    }
   ],
   "source": [
    "data_test.shape"
   ]
  },
  {
   "cell_type": "code",
   "execution_count": 46,
   "metadata": {},
   "outputs": [
    {
     "name": "stdout",
     "output_type": "stream",
     "text": [
      "<class 'pandas.core.frame.DataFrame'>\n",
      "RangeIndex: 99054 entries, 0 to 99053\n",
      "Data columns (total 7 columns):\n",
      " #   Column         Non-Null Count  Dtype \n",
      "---  ------         --------------  ----- \n",
      " 0   name           99054 non-null  object\n",
      " 1   comment_karma  99054 non-null  int64 \n",
      " 2   link_karma     99054 non-null  int64 \n",
      " 3   type           99054 non-null  object\n",
      " 4   body           99053 non-null  object\n",
      " 5   subreddit      99054 non-null  object\n",
      " 6   label          99054 non-null  int64 \n",
      "dtypes: int64(3), object(4)\n",
      "memory usage: 5.3+ MB\n"
     ]
    }
   ],
   "source": [
    "data_train.info()"
   ]
  },
  {
   "cell_type": "code",
   "execution_count": 47,
   "metadata": {},
   "outputs": [
    {
     "data": {
      "text/html": [
       "<div>\n",
       "<style scoped>\n",
       "    .dataframe tbody tr th:only-of-type {\n",
       "        vertical-align: middle;\n",
       "    }\n",
       "\n",
       "    .dataframe tbody tr th {\n",
       "        vertical-align: top;\n",
       "    }\n",
       "\n",
       "    .dataframe thead th {\n",
       "        text-align: right;\n",
       "    }\n",
       "</style>\n",
       "<table border=\"1\" class=\"dataframe\">\n",
       "  <thead>\n",
       "    <tr style=\"text-align: right;\">\n",
       "      <th></th>\n",
       "      <th>comment_karma</th>\n",
       "      <th>link_karma</th>\n",
       "      <th>label</th>\n",
       "    </tr>\n",
       "  </thead>\n",
       "  <tbody>\n",
       "    <tr>\n",
       "      <th>count</th>\n",
       "      <td>9.905400e+04</td>\n",
       "      <td>9.905400e+04</td>\n",
       "      <td>99054.000000</td>\n",
       "    </tr>\n",
       "    <tr>\n",
       "      <th>mean</th>\n",
       "      <td>1.085041e+04</td>\n",
       "      <td>7.181353e+03</td>\n",
       "      <td>0.303875</td>\n",
       "    </tr>\n",
       "    <tr>\n",
       "      <th>std</th>\n",
       "      <td>5.489147e+04</td>\n",
       "      <td>7.897344e+04</td>\n",
       "      <td>0.459931</td>\n",
       "    </tr>\n",
       "    <tr>\n",
       "      <th>min</th>\n",
       "      <td>-1.000000e+02</td>\n",
       "      <td>1.000000e+00</td>\n",
       "      <td>0.000000</td>\n",
       "    </tr>\n",
       "    <tr>\n",
       "      <th>25%</th>\n",
       "      <td>3.570000e+02</td>\n",
       "      <td>1.000000e+02</td>\n",
       "      <td>0.000000</td>\n",
       "    </tr>\n",
       "    <tr>\n",
       "      <th>50%</th>\n",
       "      <td>1.994000e+03</td>\n",
       "      <td>8.870000e+02</td>\n",
       "      <td>0.000000</td>\n",
       "    </tr>\n",
       "    <tr>\n",
       "      <th>75%</th>\n",
       "      <td>8.169000e+03</td>\n",
       "      <td>4.448000e+03</td>\n",
       "      <td>1.000000</td>\n",
       "    </tr>\n",
       "    <tr>\n",
       "      <th>max</th>\n",
       "      <td>3.141592e+06</td>\n",
       "      <td>4.841046e+06</td>\n",
       "      <td>1.000000</td>\n",
       "    </tr>\n",
       "  </tbody>\n",
       "</table>\n",
       "</div>"
      ],
      "text/plain": [
       "       comment_karma    link_karma         label\n",
       "count   9.905400e+04  9.905400e+04  99054.000000\n",
       "mean    1.085041e+04  7.181353e+03      0.303875\n",
       "std     5.489147e+04  7.897344e+04      0.459931\n",
       "min    -1.000000e+02  1.000000e+00      0.000000\n",
       "25%     3.570000e+02  1.000000e+02      0.000000\n",
       "50%     1.994000e+03  8.870000e+02      0.000000\n",
       "75%     8.169000e+03  4.448000e+03      1.000000\n",
       "max     3.141592e+06  4.841046e+06      1.000000"
      ]
     },
     "execution_count": 47,
     "metadata": {},
     "output_type": "execute_result"
    }
   ],
   "source": [
    "data_train.describe()"
   ]
  },
  {
   "cell_type": "code",
   "execution_count": 48,
   "metadata": {},
   "outputs": [
    {
     "data": {
      "text/html": [
       "<div>\n",
       "<style scoped>\n",
       "    .dataframe tbody tr th:only-of-type {\n",
       "        vertical-align: middle;\n",
       "    }\n",
       "\n",
       "    .dataframe tbody tr th {\n",
       "        vertical-align: top;\n",
       "    }\n",
       "\n",
       "    .dataframe thead th {\n",
       "        text-align: right;\n",
       "    }\n",
       "</style>\n",
       "<table border=\"1\" class=\"dataframe\">\n",
       "  <thead>\n",
       "    <tr style=\"text-align: right;\">\n",
       "      <th></th>\n",
       "      <th>name</th>\n",
       "      <th>type</th>\n",
       "      <th>body</th>\n",
       "      <th>subreddit</th>\n",
       "    </tr>\n",
       "  </thead>\n",
       "  <tbody>\n",
       "    <tr>\n",
       "      <th>count</th>\n",
       "      <td>99054</td>\n",
       "      <td>99054</td>\n",
       "      <td>99053</td>\n",
       "      <td>99054</td>\n",
       "    </tr>\n",
       "    <tr>\n",
       "      <th>unique</th>\n",
       "      <td>9067</td>\n",
       "      <td>2</td>\n",
       "      <td>96242</td>\n",
       "      <td>14607</td>\n",
       "    </tr>\n",
       "    <tr>\n",
       "      <th>top</th>\n",
       "      <td>I_Fuck_Watermelons_</td>\n",
       "      <td>comment</td>\n",
       "      <td>u/savevideo</td>\n",
       "      <td>AskReddit</td>\n",
       "    </tr>\n",
       "    <tr>\n",
       "      <th>freq</th>\n",
       "      <td>20</td>\n",
       "      <td>56005</td>\n",
       "      <td>86</td>\n",
       "      <td>2622</td>\n",
       "    </tr>\n",
       "  </tbody>\n",
       "</table>\n",
       "</div>"
      ],
      "text/plain": [
       "                       name     type         body  subreddit\n",
       "count                 99054    99054        99053      99054\n",
       "unique                 9067        2        96242      14607\n",
       "top     I_Fuck_Watermelons_  comment  u/savevideo  AskReddit\n",
       "freq                     20    56005           86       2622"
      ]
     },
     "execution_count": 48,
     "metadata": {},
     "output_type": "execute_result"
    }
   ],
   "source": [
    "data_train.describe(include=object)"
   ]
  },
  {
   "attachments": {},
   "cell_type": "markdown",
   "metadata": {},
   "source": [
    "As we can see our dataset contains basically two types of data, some columns are int while the others are object.\n",
    "\n",
    "In the following part we will do some data exploration to understand more the data."
   ]
  },
  {
   "attachments": {},
   "cell_type": "markdown",
   "metadata": {},
   "source": [
    "### Data Exploration"
   ]
  },
  {
   "attachments": {},
   "cell_type": "markdown",
   "metadata": {},
   "source": [
    "We first check if there are any missing values in the dataset"
   ]
  },
  {
   "cell_type": "code",
   "execution_count": 49,
   "metadata": {},
   "outputs": [
    {
     "data": {
      "text/plain": [
       "name             0\n",
       "comment_karma    0\n",
       "link_karma       0\n",
       "type             0\n",
       "body             1\n",
       "subreddit        0\n",
       "label            0\n",
       "dtype: int64"
      ]
     },
     "execution_count": 49,
     "metadata": {},
     "output_type": "execute_result"
    }
   ],
   "source": [
    "data_train.isna().sum()"
   ]
  },
  {
   "cell_type": "code",
   "execution_count": 77,
   "metadata": {},
   "outputs": [],
   "source": [
    "data_train = data_train.dropna(axis=0)"
   ]
  },
  {
   "attachments": {},
   "cell_type": "markdown",
   "metadata": {},
   "source": [
    "Here, we plot the counts of comments and submissions."
   ]
  },
  {
   "cell_type": "code",
   "execution_count": 79,
   "metadata": {},
   "outputs": [
    {
     "name": "stdout",
     "output_type": "stream",
     "text": [
      "comment       56004\n",
      "submission    43049\n",
      "Name: type, dtype: int64\n"
     ]
    },
    {
     "data": {
      "text/plain": [
       "<AxesSubplot: >"
      ]
     },
     "execution_count": 79,
     "metadata": {},
     "output_type": "execute_result"
    },
    {
     "data": {
      "image/png": "[encoded data removed]",
      "text/plain": [
       "<Figure size 432x288 with 1 Axes>"
      ]
     },
     "metadata": {
      "needs_background": "light"
     },
     "output_type": "display_data"
    }
   ],
   "source": [
    "print(data_train.type.value_counts())\n",
    "data_train.type.value_counts().plot(kind='bar')"
   ]
  },
  {
   "attachments": {},
   "cell_type": "markdown",
   "metadata": {},
   "source": [
    "And then we plot the count of each label (0,1)."
   ]
  },
  {
   "cell_type": "code",
   "execution_count": 80,
   "metadata": {},
   "outputs": [
    {
     "name": "stdout",
     "output_type": "stream",
     "text": [
      "0    68954\n",
      "1    30099\n",
      "Name: label, dtype: int64\n"
     ]
    },
    {
     "data": {
      "text/plain": [
       "<AxesSubplot: >"
      ]
     },
     "execution_count": 80,
     "metadata": {},
     "output_type": "execute_result"
    },
    {
     "data": {
      "image/png": "[encoded data removed]",
      "text/plain": [
       "<Figure size 432x288 with 1 Axes>"
      ]
     },
     "metadata": {
      "needs_background": "light"
     },
     "output_type": "display_data"
    }
   ],
   "source": [
    "print(data_train.label.value_counts())\n",
    "data_train.label.value_counts().plot(kind='bar')"
   ]
  },
  {
   "attachments": {},
   "cell_type": "markdown",
   "metadata": {},
   "source": [
    "In this part we want to detect the language of each body. In order to do that, we should apply some preprocessing on the text (deleting emojis and stopwrods ...)"
   ]
  },
  {
   "cell_type": "code",
   "execution_count": 100,
   "metadata": {},
   "outputs": [],
   "source": [
    "lemma = WordNetLemmatizer()\n",
    "stop_words = stopwords.words('english')\n",
    "def remove_emoji(string):\n",
    "    emoji_pattern = re.compile(\"[\"\n",
    "                           u\"\\U0001F600-\\U0001F64F\" # emoticons\n",
    "                           u\"\\U0001F300-\\U0001F5FF\" # symbols & pictographs\n",
    "                           u\"\\U0001F680-\\U0001F6FF\" # transport & map symbols\n",
    "                           u\"\\U0001F1E0-\\U0001F1FF\" # flags (iOS)\n",
    "                           u\"\\U00002702-\\U000027B0\"\n",
    "                           u\"\\U000024C2-\\U0001F251\"\n",
    "                           \"]+\", flags=re.UNICODE)\n",
    "    return emoji_pattern.sub(r'', string)\n",
    "def text_prep(x):\n",
    "     corp = str(x).lower() \n",
    "     corp = re.sub('[^a-zA-Z]+',' ', corp).strip()\n",
    "     corp = re.sub('[0-9]+', '', corp)\n",
    "     corp=remove_emoji(corp)\n",
    "     tokens = word_tokenize(corp)\n",
    "     words = [w for w in tokens if len(w) > 2 if not w in stop_words]\n",
    "     lemmatize = [lemma.lemmatize(w) for w in words]\n",
    "     l=(' ').join(lemmatize)\n",
    "     return l\n",
    "\n",
    "preprocess_tag = [text_prep(i) for i in data_train['body']]\n",
    "data_train[\"preprocess_txt\"] = preprocess_tag"
   ]
  },
  {
   "cell_type": "code",
   "execution_count": 103,
   "metadata": {},
   "outputs": [],
   "source": [
    "for i in range(data_train.shape[0]) : \n",
    "    languages = []\n",
    "    text = data_train.preprocess_txt[i] \n",
    "    text = remove_emoji(text)\n",
    "    if len(text) != 0:\n",
    "        language = detect(text)\n",
    "        \n",
    "        languages.append(language)\n",
    "    else : \n",
    "        pass\n",
    "languages\n"
   ]
  },
  {
   "cell_type": "code",
   "execution_count": 53,
   "metadata": {},
   "outputs": [
    {
     "data": {
      "text/plain": [
       "[Text(0.5, 0, 'comment_karma'),\n",
       " Text(1.5, 0, 'link_karma'),\n",
       " Text(2.5, 0, 'label')]"
      ]
     },
     "execution_count": 53,
     "metadata": {},
     "output_type": "execute_result"
    },
    {
     "data": {
      "image/png": "[encoded data removed]",
      "text/plain": [
       "<Figure size 720x720 with 2 Axes>"
      ]
     },
     "metadata": {
      "needs_background": "light"
     },
     "output_type": "display_data"
    }
   ],
   "source": [
    "corr = data_train.corr()\n",
    "plt.figure(figsize=(10, 10))\n",
    "ax = sns.heatmap(\n",
    "    corr, \n",
    "    vmin=-1, vmax=1, center=0,\n",
    "    cmap=sns.diverging_palette(20, 220, n=200),\n",
    "    square=True\n",
    ")\n",
    "ax.set_xticklabels(\n",
    "    ax.get_xticklabels(),\n",
    "    rotation=45,\n",
    "    horizontalalignment='right'\n",
    ")"
   ]
  },
  {
   "cell_type": "code",
   "execution_count": null,
   "metadata": {},
   "outputs": [],
   "source": []
  }
 ],
 "metadata": {
  "kernelspec": {
   "display_name": "base",
   "language": "python",
   "name": "python3"
  },
  "language_info": {
   "codemirror_mode": {
    "name": "ipython",
    "version": 3
   },
   "file_extension": ".py",
   "mimetype": "text/x-python",
   "name": "python",
   "nbconvert_exporter": "python",
   "pygments_lexer": "ipython3",
   "version": "3.8.8"
  },
  "orig_nbformat": 4,
  "vscode": {
   "interpreter": {
    "hash": "7e9cd8d61047bfbd3fac2ad7cb6a904144b201a416154428b81be1004079f478"
   }
  }
 },
 "nbformat": 4,
 "nbformat_minor": 2
}
