{
 "cells": [
  {
   "cell_type": "markdown",
   "metadata": {},
   "source": [
    "# Scam Prediction in Reddit\n",
    "\n",
    "Done by : Zineb Bouharra, Rémi Hurstel, Ivo Bonetti, Ihssane Ghalas, Chaimaa Akharaze, Maroua El-Arni"
   ]
  },
  {
   "cell_type": "markdown",
   "metadata": {},
   "source": [
    "### Problem Statement \n",
    "\n",
    "Online scams are a persistent problem on social media platforms, and Reddit is no exception. Scammers often use manipulative tactics to deceive unsuspecting users into participating in fraudulent schemes, which can result in significant financial loss and other negative consequences. Detecting these scams is a challenging task, as scammers use subtle language and psychological techniques to evade detection. Moreover, the vast and diverse nature of Reddit's user-generated content makes it difficult to identify and analyze all potential scam posts and comments manually. As a result, there is a pressing need for an effective scam prediction model for Reddit that can accurately detect and alert users to potential scams.\n",
    "\n",
    "\n",
    "To address this problem, researchers and developers have been exploring various approaches to predict scams on Reddit. Some of the proposed techniques include using machine learning algorithms, natural language processing, and network analysis to identify patterns and anomalies in Reddit's user-generated content. These approaches aim to develop models that can automatically distinguish between legitimate and fraudulent posts and comments. By leveraging the vast amounts of data available on Reddit, these models can learn to detect subtle cues and characteristics that indicate scam-like behavior.\n",
    "\n",
    "\n",
    "Therefore, the challenge is to develop an effective scam prediction model for Reddit that can accurately identify and alert users to potential scam posts and comments, ultimately reducing the risk of financial harm and improving the overall safety and trustworthiness of the platform."
   ]
  },
  {
   "cell_type": "markdown",
   "metadata": {},
   "source": [
    "### Necessary imports"
   ]
  },
  {
   "cell_type": "code",
   "execution_count": 1,
   "metadata": {},
   "outputs": [
    {
     "name": "stderr",
     "output_type": "stream",
     "text": [
      "[nltk_data] Downloading package omw-1.4 to\n",
      "[nltk_data]     C:\\Users\\ivobo\\AppData\\Roaming\\nltk_data...\n",
      "[nltk_data]   Package omw-1.4 is already up-to-date!\n",
      "[nltk_data] Downloading package stopwords to\n",
      "[nltk_data]     C:\\Users\\ivobo\\AppData\\Roaming\\nltk_data...\n",
      "[nltk_data]   Package stopwords is already up-to-date!\n",
      "[nltk_data] Downloading package wordnet to\n",
      "[nltk_data]     C:\\Users\\ivobo\\AppData\\Roaming\\nltk_data...\n",
      "[nltk_data]   Package wordnet is already up-to-date!\n",
      "[nltk_data] Downloading package punkt to\n",
      "[nltk_data]     C:\\Users\\ivobo\\AppData\\Roaming\\nltk_data...\n",
      "[nltk_data]   Package punkt is already up-to-date!\n"
     ]
    },
    {
     "data": {
      "text/plain": [
       "True"
      ]
     },
     "execution_count": 1,
     "metadata": {},
     "output_type": "execute_result"
    }
   ],
   "source": [
    "import pandas as pd \n",
    "import matplotlib.pyplot as plt\n",
    "import seaborn as sns\n",
    "from scipy import stats\n",
    "import numpy as np\n",
    "import re\n",
    "import pickle\n",
    "\n",
    "from sklearn.base import BaseEstimator\n",
    "from sklearn.pipeline import Pipeline\n",
    "from sklearn.preprocessing import StandardScaler\n",
    "from sklearn.linear_model import LogisticRegression\n",
    "from sklearn.feature_extraction.text import TfidfTransformer\n",
    "from sklearn.feature_extraction.text import CountVectorizer\n",
    "from sklearn.naive_bayes import MultinomialNB\n",
    "from sklearn.metrics import classification_report\n",
    "from wordcloud import WordCloud\n",
    "\n",
    "import nltk\n",
    "from nltk.corpus import stopwords\n",
    "from nltk.tokenize import word_tokenize\n",
    "from nltk.stem import WordNetLemmatizer\n",
    "\n",
    "lemma = WordNetLemmatizer()\n",
    "stop_words = stopwords.words('english')\n",
    "\n",
    "nltk.download('omw-1.4')\n",
    "nltk.download('stopwords')\n",
    "nltk.download('wordnet')\n",
    "nltk.download('punkt')"
   ]
  },
  {
   "cell_type": "code",
   "execution_count": 2,
   "metadata": {},
   "outputs": [],
   "source": [
    "import warnings\n",
    "warnings.filterwarnings('ignore')"
   ]
  },
  {
   "cell_type": "markdown",
   "metadata": {},
   "source": [
    "### Loading the dataset"
   ]
  },
  {
   "cell_type": "markdown",
   "metadata": {},
   "source": [
    "First, we need to download the dataset."
   ]
  },
  {
   "cell_type": "code",
   "execution_count": 3,
   "metadata": {},
   "outputs": [],
   "source": [
    "!python download_data.py"
   ]
  },
  {
   "cell_type": "markdown",
   "metadata": {},
   "source": [
    "The original data contains 147843 examples that we split into train and test datasets as follows :\n",
    "\n",
    "- The training dataset contains 67% of the original dataset. It is accessible in CSV format in data/train.csv\n",
    "\n",
    "- The testing dataset contains 33% of the original dataset. It is accessible in CSV format in data/test.csv"
   ]
  },
  {
   "attachments": {},
   "cell_type": "markdown",
   "metadata": {},
   "source": [
    "we load the data using the utility function designed for the challenge in `problem.py`."
   ]
  },
  {
   "cell_type": "code",
   "execution_count": 4,
   "metadata": {},
   "outputs": [],
   "source": [
    "from problem import get_train_data, get_test_data\n",
    "data_train = get_train_data()\n",
    "data_test = get_test_data()"
   ]
  },
  {
   "cell_type": "markdown",
   "metadata": {},
   "source": [
    "### Data Insights"
   ]
  },
  {
   "cell_type": "code",
   "execution_count": 5,
   "metadata": {},
   "outputs": [
    {
     "data": {
      "text/html": [
       "<div>\n",
       "<style scoped>\n",
       "    .dataframe tbody tr th:only-of-type {\n",
       "        vertical-align: middle;\n",
       "    }\n",
       "\n",
       "    .dataframe tbody tr th {\n",
       "        vertical-align: top;\n",
       "    }\n",
       "\n",
       "    .dataframe thead th {\n",
       "        text-align: right;\n",
       "    }\n",
       "</style>\n",
       "<table border=\"1\" class=\"dataframe\">\n",
       "  <thead>\n",
       "    <tr style=\"text-align: right;\">\n",
       "      <th></th>\n",
       "      <th>name</th>\n",
       "      <th>comment_karma</th>\n",
       "      <th>link_karma</th>\n",
       "      <th>type</th>\n",
       "      <th>body</th>\n",
       "      <th>subreddit</th>\n",
       "      <th>label</th>\n",
       "    </tr>\n",
       "  </thead>\n",
       "  <tbody>\n",
       "    <tr>\n",
       "      <th>0</th>\n",
       "      <td>vegiraghav</td>\n",
       "      <td>15790</td>\n",
       "      <td>21569</td>\n",
       "      <td>comment</td>\n",
       "      <td>That's gotta be the ball of the match.</td>\n",
       "      <td>Cricket</td>\n",
       "      <td>0</td>\n",
       "    </tr>\n",
       "    <tr>\n",
       "      <th>1</th>\n",
       "      <td>theoutlet</td>\n",
       "      <td>174587</td>\n",
       "      <td>21576</td>\n",
       "      <td>comment</td>\n",
       "      <td>I’m one of those assholes with no taste that p...</td>\n",
       "      <td>AskReddit</td>\n",
       "      <td>0</td>\n",
       "    </tr>\n",
       "    <tr>\n",
       "      <th>2</th>\n",
       "      <td>NedvedTom</td>\n",
       "      <td>1528</td>\n",
       "      <td>891</td>\n",
       "      <td>comment</td>\n",
       "      <td>jade spear, 2pc pale flame, 2pc bloodstained, ...</td>\n",
       "      <td>YunjinMains</td>\n",
       "      <td>0</td>\n",
       "    </tr>\n",
       "    <tr>\n",
       "      <th>3</th>\n",
       "      <td>dash_x</td>\n",
       "      <td>6247</td>\n",
       "      <td>1785</td>\n",
       "      <td>comment</td>\n",
       "      <td>Three Amigos</td>\n",
       "      <td>AskReddit</td>\n",
       "      <td>1</td>\n",
       "    </tr>\n",
       "    <tr>\n",
       "      <th>4</th>\n",
       "      <td>TheOldNorth-apricity</td>\n",
       "      <td>327</td>\n",
       "      <td>4</td>\n",
       "      <td>comment</td>\n",
       "      <td>The Entmoot has begun</td>\n",
       "      <td>WritingPrompts</td>\n",
       "      <td>0</td>\n",
       "    </tr>\n",
       "  </tbody>\n",
       "</table>\n",
       "</div>"
      ],
      "text/plain": [
       "                   name  comment_karma  link_karma     type  \\\n",
       "0            vegiraghav          15790       21569  comment   \n",
       "1             theoutlet         174587       21576  comment   \n",
       "2             NedvedTom           1528         891  comment   \n",
       "3                dash_x           6247        1785  comment   \n",
       "4  TheOldNorth-apricity            327           4  comment   \n",
       "\n",
       "                                                body       subreddit  label  \n",
       "0             That's gotta be the ball of the match.         Cricket      0  \n",
       "1  I’m one of those assholes with no taste that p...       AskReddit      0  \n",
       "2  jade spear, 2pc pale flame, 2pc bloodstained, ...     YunjinMains      0  \n",
       "3                                       Three Amigos       AskReddit      1  \n",
       "4                              The Entmoot has begun  WritingPrompts      0  "
      ]
     },
     "execution_count": 5,
     "metadata": {},
     "output_type": "execute_result"
    }
   ],
   "source": [
    "data_train.head()"
   ]
  },
  {
   "cell_type": "markdown",
   "metadata": {},
   "source": [
    "Karma features are reference of the popularity of a post. The higher a karma feature is, the more popular the post is."
   ]
  },
  {
   "cell_type": "code",
   "execution_count": 6,
   "metadata": {},
   "outputs": [
    {
     "data": {
      "text/plain": [
       "(118274, 7)"
      ]
     },
     "execution_count": 6,
     "metadata": {},
     "output_type": "execute_result"
    }
   ],
   "source": [
    "data_train.shape"
   ]
  },
  {
   "cell_type": "code",
   "execution_count": 7,
   "metadata": {},
   "outputs": [
    {
     "data": {
      "text/html": [
       "<div>\n",
       "<style scoped>\n",
       "    .dataframe tbody tr th:only-of-type {\n",
       "        vertical-align: middle;\n",
       "    }\n",
       "\n",
       "    .dataframe tbody tr th {\n",
       "        vertical-align: top;\n",
       "    }\n",
       "\n",
       "    .dataframe thead th {\n",
       "        text-align: right;\n",
       "    }\n",
       "</style>\n",
       "<table border=\"1\" class=\"dataframe\">\n",
       "  <thead>\n",
       "    <tr style=\"text-align: right;\">\n",
       "      <th></th>\n",
       "      <th>name</th>\n",
       "      <th>comment_karma</th>\n",
       "      <th>link_karma</th>\n",
       "      <th>type</th>\n",
       "      <th>body</th>\n",
       "      <th>subreddit</th>\n",
       "      <th>label</th>\n",
       "    </tr>\n",
       "  </thead>\n",
       "  <tbody>\n",
       "    <tr>\n",
       "      <th>0</th>\n",
       "      <td>slamy420</td>\n",
       "      <td>15882</td>\n",
       "      <td>2558</td>\n",
       "      <td>comment</td>\n",
       "      <td>Native species, no issue</td>\n",
       "      <td>snails</td>\n",
       "      <td>0</td>\n",
       "    </tr>\n",
       "    <tr>\n",
       "      <th>1</th>\n",
       "      <td>SourcerySprinkles</td>\n",
       "      <td>554</td>\n",
       "      <td>568</td>\n",
       "      <td>comment</td>\n",
       "      <td>My therapist is encouraging me to make an acco...</td>\n",
       "      <td>mutualapp</td>\n",
       "      <td>0</td>\n",
       "    </tr>\n",
       "    <tr>\n",
       "      <th>2</th>\n",
       "      <td>chronicheartache</td>\n",
       "      <td>4743</td>\n",
       "      <td>5963</td>\n",
       "      <td>submission</td>\n",
       "      <td>Can I consider myself butch even though I’m ag...</td>\n",
       "      <td>actuallesbians</td>\n",
       "      <td>0</td>\n",
       "    </tr>\n",
       "    <tr>\n",
       "      <th>3</th>\n",
       "      <td>MarshallsNuts</td>\n",
       "      <td>3698</td>\n",
       "      <td>872</td>\n",
       "      <td>submission</td>\n",
       "      <td>géo healer : Going for a 4 geo team and my hea...</td>\n",
       "      <td>IttoMains</td>\n",
       "      <td>0</td>\n",
       "    </tr>\n",
       "    <tr>\n",
       "      <th>4</th>\n",
       "      <td>applesinfrance</td>\n",
       "      <td>136</td>\n",
       "      <td>234</td>\n",
       "      <td>comment</td>\n",
       "      <td>Must read: The 13 Clocks by James Thurber, The...</td>\n",
       "      <td>booksuggestions</td>\n",
       "      <td>0</td>\n",
       "    </tr>\n",
       "  </tbody>\n",
       "</table>\n",
       "</div>"
      ],
      "text/plain": [
       "                name  comment_karma  link_karma        type  \\\n",
       "0           slamy420          15882        2558     comment   \n",
       "1  SourcerySprinkles            554         568     comment   \n",
       "2   chronicheartache           4743        5963  submission   \n",
       "3      MarshallsNuts           3698         872  submission   \n",
       "4     applesinfrance            136         234     comment   \n",
       "\n",
       "                                                body        subreddit  label  \n",
       "0                           Native species, no issue           snails      0  \n",
       "1  My therapist is encouraging me to make an acco...        mutualapp      0  \n",
       "2  Can I consider myself butch even though I’m ag...   actuallesbians      0  \n",
       "3  géo healer : Going for a 4 geo team and my hea...        IttoMains      0  \n",
       "4  Must read: The 13 Clocks by James Thurber, The...  booksuggestions      0  "
      ]
     },
     "execution_count": 7,
     "metadata": {},
     "output_type": "execute_result"
    }
   ],
   "source": [
    "data_test.head()"
   ]
  },
  {
   "cell_type": "code",
   "execution_count": 8,
   "metadata": {},
   "outputs": [
    {
     "data": {
      "text/plain": [
       "(29569, 7)"
      ]
     },
     "execution_count": 8,
     "metadata": {},
     "output_type": "execute_result"
    }
   ],
   "source": [
    "data_test.shape"
   ]
  },
  {
   "cell_type": "code",
   "execution_count": 9,
   "metadata": {},
   "outputs": [
    {
     "name": "stdout",
     "output_type": "stream",
     "text": [
      "<class 'pandas.core.frame.DataFrame'>\n",
      "RangeIndex: 118274 entries, 0 to 118273\n",
      "Data columns (total 7 columns):\n",
      " #   Column         Non-Null Count   Dtype \n",
      "---  ------         --------------   ----- \n",
      " 0   name           118274 non-null  object\n",
      " 1   comment_karma  118274 non-null  int64 \n",
      " 2   link_karma     118274 non-null  int64 \n",
      " 3   type           118274 non-null  object\n",
      " 4   body           118273 non-null  object\n",
      " 5   subreddit      118274 non-null  object\n",
      " 6   label          118274 non-null  int64 \n",
      "dtypes: int64(3), object(4)\n",
      "memory usage: 6.3+ MB\n"
     ]
    }
   ],
   "source": [
    "data_train.info()"
   ]
  },
  {
   "cell_type": "code",
   "execution_count": 10,
   "metadata": {},
   "outputs": [
    {
     "data": {
      "text/html": [
       "<div>\n",
       "<style scoped>\n",
       "    .dataframe tbody tr th:only-of-type {\n",
       "        vertical-align: middle;\n",
       "    }\n",
       "\n",
       "    .dataframe tbody tr th {\n",
       "        vertical-align: top;\n",
       "    }\n",
       "\n",
       "    .dataframe thead th {\n",
       "        text-align: right;\n",
       "    }\n",
       "</style>\n",
       "<table border=\"1\" class=\"dataframe\">\n",
       "  <thead>\n",
       "    <tr style=\"text-align: right;\">\n",
       "      <th></th>\n",
       "      <th>comment_karma</th>\n",
       "      <th>link_karma</th>\n",
       "      <th>label</th>\n",
       "    </tr>\n",
       "  </thead>\n",
       "  <tbody>\n",
       "    <tr>\n",
       "      <th>count</th>\n",
       "      <td>1.182740e+05</td>\n",
       "      <td>1.182740e+05</td>\n",
       "      <td>118274.00000</td>\n",
       "    </tr>\n",
       "    <tr>\n",
       "      <th>mean</th>\n",
       "      <td>1.072808e+04</td>\n",
       "      <td>7.060894e+03</td>\n",
       "      <td>0.30338</td>\n",
       "    </tr>\n",
       "    <tr>\n",
       "      <th>std</th>\n",
       "      <td>5.366773e+04</td>\n",
       "      <td>7.705072e+04</td>\n",
       "      <td>0.45972</td>\n",
       "    </tr>\n",
       "    <tr>\n",
       "      <th>min</th>\n",
       "      <td>-1.000000e+02</td>\n",
       "      <td>1.000000e+00</td>\n",
       "      <td>0.00000</td>\n",
       "    </tr>\n",
       "    <tr>\n",
       "      <th>25%</th>\n",
       "      <td>3.562500e+02</td>\n",
       "      <td>1.020000e+02</td>\n",
       "      <td>0.00000</td>\n",
       "    </tr>\n",
       "    <tr>\n",
       "      <th>50%</th>\n",
       "      <td>1.985000e+03</td>\n",
       "      <td>8.910000e+02</td>\n",
       "      <td>0.00000</td>\n",
       "    </tr>\n",
       "    <tr>\n",
       "      <th>75%</th>\n",
       "      <td>8.167000e+03</td>\n",
       "      <td>4.411000e+03</td>\n",
       "      <td>1.00000</td>\n",
       "    </tr>\n",
       "    <tr>\n",
       "      <th>max</th>\n",
       "      <td>3.141592e+06</td>\n",
       "      <td>4.841046e+06</td>\n",
       "      <td>1.00000</td>\n",
       "    </tr>\n",
       "  </tbody>\n",
       "</table>\n",
       "</div>"
      ],
      "text/plain": [
       "       comment_karma    link_karma         label\n",
       "count   1.182740e+05  1.182740e+05  118274.00000\n",
       "mean    1.072808e+04  7.060894e+03       0.30338\n",
       "std     5.366773e+04  7.705072e+04       0.45972\n",
       "min    -1.000000e+02  1.000000e+00       0.00000\n",
       "25%     3.562500e+02  1.020000e+02       0.00000\n",
       "50%     1.985000e+03  8.910000e+02       0.00000\n",
       "75%     8.167000e+03  4.411000e+03       1.00000\n",
       "max     3.141592e+06  4.841046e+06       1.00000"
      ]
     },
     "execution_count": 10,
     "metadata": {},
     "output_type": "execute_result"
    }
   ],
   "source": [
    "data_train.describe()"
   ]
  },
  {
   "cell_type": "code",
   "execution_count": 11,
   "metadata": {},
   "outputs": [
    {
     "data": {
      "text/html": [
       "<div>\n",
       "<style scoped>\n",
       "    .dataframe tbody tr th:only-of-type {\n",
       "        vertical-align: middle;\n",
       "    }\n",
       "\n",
       "    .dataframe tbody tr th {\n",
       "        vertical-align: top;\n",
       "    }\n",
       "\n",
       "    .dataframe thead th {\n",
       "        text-align: right;\n",
       "    }\n",
       "</style>\n",
       "<table border=\"1\" class=\"dataframe\">\n",
       "  <thead>\n",
       "    <tr style=\"text-align: right;\">\n",
       "      <th></th>\n",
       "      <th>name</th>\n",
       "      <th>type</th>\n",
       "      <th>body</th>\n",
       "      <th>subreddit</th>\n",
       "    </tr>\n",
       "  </thead>\n",
       "  <tbody>\n",
       "    <tr>\n",
       "      <th>count</th>\n",
       "      <td>118274</td>\n",
       "      <td>118274</td>\n",
       "      <td>118273</td>\n",
       "      <td>118274</td>\n",
       "    </tr>\n",
       "    <tr>\n",
       "      <th>unique</th>\n",
       "      <td>9122</td>\n",
       "      <td>2</td>\n",
       "      <td>114596</td>\n",
       "      <td>15884</td>\n",
       "    </tr>\n",
       "    <tr>\n",
       "      <th>top</th>\n",
       "      <td>picklelope_a</td>\n",
       "      <td>comment</td>\n",
       "      <td>u/savevideo</td>\n",
       "      <td>AskReddit</td>\n",
       "    </tr>\n",
       "    <tr>\n",
       "      <th>freq</th>\n",
       "      <td>20</td>\n",
       "      <td>66789</td>\n",
       "      <td>111</td>\n",
       "      <td>3172</td>\n",
       "    </tr>\n",
       "  </tbody>\n",
       "</table>\n",
       "</div>"
      ],
      "text/plain": [
       "                name     type         body  subreddit\n",
       "count         118274   118274       118273     118274\n",
       "unique          9122        2       114596      15884\n",
       "top     picklelope_a  comment  u/savevideo  AskReddit\n",
       "freq              20    66789          111       3172"
      ]
     },
     "execution_count": 11,
     "metadata": {},
     "output_type": "execute_result"
    }
   ],
   "source": [
    "data_train.describe(include=object)"
   ]
  },
  {
   "cell_type": "markdown",
   "metadata": {},
   "source": [
    "As we can see, our dataset contains basically two types of data, some columns are integers while the others are objects.\n",
    "\n",
    "In the following part, we will do some data exploration to have a better understanding of it."
   ]
  },
  {
   "cell_type": "markdown",
   "metadata": {},
   "source": [
    "### Data Exploration"
   ]
  },
  {
   "cell_type": "markdown",
   "metadata": {},
   "source": [
    "First, we check if there are any missing values in the dataset"
   ]
  },
  {
   "cell_type": "code",
   "execution_count": 12,
   "metadata": {},
   "outputs": [
    {
     "data": {
      "text/plain": [
       "name             0\n",
       "comment_karma    0\n",
       "link_karma       0\n",
       "type             0\n",
       "body             1\n",
       "subreddit        0\n",
       "label            0\n",
       "dtype: int64"
      ]
     },
     "execution_count": 12,
     "metadata": {},
     "output_type": "execute_result"
    }
   ],
   "source": [
    "data_train.isna().sum()"
   ]
  },
  {
   "cell_type": "code",
   "execution_count": 13,
   "metadata": {},
   "outputs": [
    {
     "data": {
      "text/plain": [
       "name             0\n",
       "comment_karma    0\n",
       "link_karma       0\n",
       "type             0\n",
       "body             0\n",
       "subreddit        0\n",
       "label            0\n",
       "dtype: int64"
      ]
     },
     "execution_count": 13,
     "metadata": {},
     "output_type": "execute_result"
    }
   ],
   "source": [
    "data_test.isna().sum()"
   ]
  },
  {
   "cell_type": "markdown",
   "metadata": {},
   "source": [
    "Due to the very small amount of missing values in the dataset compared to the amount of data provided, dropping the line containnig the missing value will not have much effect on the quality of our data and then, of the prediction. "
   ]
  },
  {
   "cell_type": "code",
   "execution_count": 14,
   "metadata": {},
   "outputs": [],
   "source": [
    "data_train = data_train.dropna(axis=0)"
   ]
  },
  {
   "cell_type": "code",
   "execution_count": 15,
   "metadata": {},
   "outputs": [
    {
     "name": "stdout",
     "output_type": "stream",
     "text": [
      "comment       66788\n",
      "submission    51485\n",
      "Name: type, dtype: int64\n"
     ]
    },
    {
     "data": {
      "text/plain": [
       "<AxesSubplot:>"
      ]
     },
     "execution_count": 15,
     "metadata": {},
     "output_type": "execute_result"
    },
    {
     "data": {
      "image/png": "[encoded data removed]",
      "text/plain": [
       "<Figure size 432x288 with 1 Axes>"
      ]
     },
     "metadata": {
      "needs_background": "light"
     },
     "output_type": "display_data"
    }
   ],
   "source": [
    "print(data_train.type.value_counts())\n",
    "data_train.type.value_counts().plot(kind='bar')"
   ]
  },
  {
   "cell_type": "markdown",
   "metadata": {},
   "source": [
    "And then we plot the count of each label (0,1)."
   ]
  },
  {
   "cell_type": "code",
   "execution_count": 16,
   "metadata": {},
   "outputs": [
    {
     "name": "stdout",
     "output_type": "stream",
     "text": [
      "0    82392\n",
      "1    35881\n",
      "Name: label, dtype: int64\n"
     ]
    },
    {
     "data": {
      "text/plain": [
       "<AxesSubplot:>"
      ]
     },
     "execution_count": 16,
     "metadata": {},
     "output_type": "execute_result"
    },
    {
     "data": {
      "image/png": "[encoded data removed]",
      "text/plain": [
       "<Figure size 432x288 with 1 Axes>"
      ]
     },
     "metadata": {
      "needs_background": "light"
     },
     "output_type": "display_data"
    }
   ],
   "source": [
    "print(data_train.label.value_counts())\n",
    "data_train.label.value_counts().plot(kind='bar')"
   ]
  },
  {
   "cell_type": "markdown",
   "metadata": {},
   "source": [
    "Let's plot the distribution of the variable type when it comes to our target."
   ]
  },
  {
   "cell_type": "code",
   "execution_count": 17,
   "metadata": {},
   "outputs": [
    {
     "data": {
      "text/plain": [
       "<matplotlib.legend.Legend at 0x1c3ebf76070>"
      ]
     },
     "execution_count": 17,
     "metadata": {},
     "output_type": "execute_result"
    },
    {
     "data": {
      "image/png": "[encoded data removed]",
      "text/plain": [
       "<Figure size 1080x504 with 1 Axes>"
      ]
     },
     "metadata": {
      "needs_background": "light"
     },
     "output_type": "display_data"
    }
   ],
   "source": [
    "vals = list(data_train['type'].unique())\n",
    "plt.figure(figsize=(15,7))\n",
    "for val in vals:\n",
    "    sns.kdeplot(data_train[data_train['type']==val]['label'],label=val,shade=True)\n",
    "plt.legend()"
   ]
  },
  {
   "cell_type": "markdown",
   "metadata": {},
   "source": [
    "Let's now plot the correlation between the numerical features"
   ]
  },
  {
   "cell_type": "code",
   "execution_count": 18,
   "metadata": {},
   "outputs": [
    {
     "data": {
      "text/plain": [
       "<AxesSubplot:>"
      ]
     },
     "execution_count": 18,
     "metadata": {},
     "output_type": "execute_result"
    },
    {
     "data": {
      "image/png": "[encoded data removed]",
      "text/plain": [
       "<Figure size 720x432 with 2 Axes>"
      ]
     },
     "metadata": {
      "needs_background": "light"
     },
     "output_type": "display_data"
    }
   ],
   "source": [
    "plt.figure(figsize=(10,6))\n",
    "sns.heatmap(data_train.corr(method='pearson'),annot=True)"
   ]
  },
  {
   "cell_type": "markdown",
   "metadata": {},
   "source": [
    "We can plot a pair plot. This will show us how numerical feature's points are distributed in relation to other features."
   ]
  },
  {
   "cell_type": "code",
   "execution_count": 19,
   "metadata": {},
   "outputs": [
    {
     "data": {
      "text/plain": [
       "[]"
      ]
     },
     "execution_count": 19,
     "metadata": {},
     "output_type": "execute_result"
    },
    {
     "data": {
      "image/png": "[encoded data removed]",
      "text/plain": [
       "<Figure size 405.725x360 with 6 Axes>"
      ]
     },
     "metadata": {},
     "output_type": "display_data"
    }
   ],
   "source": [
    "\n",
    "sns.set_theme(style='ticks')\n",
    "sns.pairplot(data_train.iloc[:100], hue='label')\n",
    "plt.title('Pair-plot')\n",
    "plt.plot()"
   ]
  },
  {
   "cell_type": "code",
   "execution_count": 20,
   "metadata": {},
   "outputs": [
    {
     "data": {
      "image/png": "[encoded data removed]",
      "text/plain": [
       "<Figure size 720x720 with 4 Axes>"
      ]
     },
     "metadata": {},
     "output_type": "display_data"
    }
   ],
   "source": [
    "data_train.hist(figsize=(10, 10), bins = 50, xlabelsize=8, ylabelsize=8)\n",
    "plt.show()"
   ]
  },
  {
   "cell_type": "markdown",
   "metadata": {},
   "source": [
    "### Pre processing"
   ]
  },
  {
   "cell_type": "code",
   "execution_count": 21,
   "metadata": {},
   "outputs": [],
   "source": [
    "y_train = data_train['label']\n",
    "y_test = data_test['label']\n",
    "\n",
    "del data_train['label']\n",
    "del data_test['label']"
   ]
  },
  {
   "cell_type": "code",
   "execution_count": 22,
   "metadata": {},
   "outputs": [
    {
     "data": {
      "text/plain": [
       "'Hilarious ! '"
      ]
     },
     "execution_count": 22,
     "metadata": {},
     "output_type": "execute_result"
    }
   ],
   "source": [
    "import re\n",
    "def remove_emoji(string):\n",
    "    \"function to remove emojis\"\n",
    "    emoji_pattern = re.compile(\"[\"\n",
    "                           u\"\\U0001F600-\\U0001F64F\" # emoticons\n",
    "                           u\"\\U0001F300-\\U0001F5FF\" # symbols & pictographs\n",
    "                           u\"\\U0001F680-\\U0001F6FF\" # transport & map symbols\n",
    "                           u\"\\U0001F1E0-\\U0001F1FF\" # flags (iOS)\n",
    "                           u\"\\U00002702-\\U000027B0\"\n",
    "                           u\"\\U000024C2-\\U0001F251\"\n",
    "                           \"]+\", flags=re.UNICODE)\n",
    "    return emoji_pattern.sub(r'', string)\n",
    "\n",
    "remove_emoji(\"Hilarious 😂! \")"
   ]
  },
  {
   "cell_type": "code",
   "execution_count": 23,
   "metadata": {},
   "outputs": [],
   "source": [
    "def preprocessing(x):\n",
    "     \"\"\"preprocessing the text\"\"\"\n",
    "     corp = str(x).lower()  #lower\n",
    "     corp = re.sub('[^a-zA-Z]+',' ', corp).strip() #keep text\n",
    "     #corp = re.sub('[0-9]+', '', corp)\n",
    "     corp=remove_emoji(corp) # remove emojis\n",
    "     tokens = word_tokenize(corp) #tokenization\n",
    "     words = [w for w in tokens if len(w) > 2 if not w in stop_words] # remove stop words and words with less than two caracters\n",
    "     lemmatize = [lemma.lemmatize(w) for w in words] #lemmatization\n",
    "     l=(' ').join(lemmatize)\n",
    "     return l\n",
    " \n",
    "def preprocess(X):\n",
    "    preprocess_text = [preprocessing(i) for i in X['body']]\n",
    "    X[\"preprocessed_body\"] = preprocess_text\n",
    "    return X"
   ]
  },
  {
   "cell_type": "code",
   "execution_count": 24,
   "metadata": {},
   "outputs": [],
   "source": [
    "### preprocessing train/test\n",
    "X_train = preprocess(data_train)\n",
    "X_test = preprocess(data_test)\n",
    "X_test=X_test.reset_index()\n",
    "X_train=X_train.reset_index()"
   ]
  },
  {
   "cell_type": "markdown",
   "metadata": {},
   "source": [
    "Here is a glimpse of how our new training data looks after the pre processing step."
   ]
  },
  {
   "cell_type": "code",
   "execution_count": 25,
   "metadata": {},
   "outputs": [
    {
     "data": {
      "text/html": [
       "<div>\n",
       "<style scoped>\n",
       "    .dataframe tbody tr th:only-of-type {\n",
       "        vertical-align: middle;\n",
       "    }\n",
       "\n",
       "    .dataframe tbody tr th {\n",
       "        vertical-align: top;\n",
       "    }\n",
       "\n",
       "    .dataframe thead th {\n",
       "        text-align: right;\n",
       "    }\n",
       "</style>\n",
       "<table border=\"1\" class=\"dataframe\">\n",
       "  <thead>\n",
       "    <tr style=\"text-align: right;\">\n",
       "      <th></th>\n",
       "      <th>index</th>\n",
       "      <th>name</th>\n",
       "      <th>comment_karma</th>\n",
       "      <th>link_karma</th>\n",
       "      <th>type</th>\n",
       "      <th>body</th>\n",
       "      <th>subreddit</th>\n",
       "      <th>preprocessed_body</th>\n",
       "    </tr>\n",
       "  </thead>\n",
       "  <tbody>\n",
       "    <tr>\n",
       "      <th>0</th>\n",
       "      <td>0</td>\n",
       "      <td>vegiraghav</td>\n",
       "      <td>15790</td>\n",
       "      <td>21569</td>\n",
       "      <td>comment</td>\n",
       "      <td>That's gotta be the ball of the match.</td>\n",
       "      <td>Cricket</td>\n",
       "      <td>got ball match</td>\n",
       "    </tr>\n",
       "    <tr>\n",
       "      <th>1</th>\n",
       "      <td>1</td>\n",
       "      <td>theoutlet</td>\n",
       "      <td>174587</td>\n",
       "      <td>21576</td>\n",
       "      <td>comment</td>\n",
       "      <td>I’m one of those assholes with no taste that p...</td>\n",
       "      <td>AskReddit</td>\n",
       "      <td>one asshole taste prefers plan</td>\n",
       "    </tr>\n",
       "    <tr>\n",
       "      <th>2</th>\n",
       "      <td>2</td>\n",
       "      <td>NedvedTom</td>\n",
       "      <td>1528</td>\n",
       "      <td>891</td>\n",
       "      <td>comment</td>\n",
       "      <td>jade spear, 2pc pale flame, 2pc bloodstained, ...</td>\n",
       "      <td>YunjinMains</td>\n",
       "      <td>jade spear pale flame bloodstained atk phys dm...</td>\n",
       "    </tr>\n",
       "    <tr>\n",
       "      <th>3</th>\n",
       "      <td>3</td>\n",
       "      <td>dash_x</td>\n",
       "      <td>6247</td>\n",
       "      <td>1785</td>\n",
       "      <td>comment</td>\n",
       "      <td>Three Amigos</td>\n",
       "      <td>AskReddit</td>\n",
       "      <td>three amigo</td>\n",
       "    </tr>\n",
       "    <tr>\n",
       "      <th>4</th>\n",
       "      <td>4</td>\n",
       "      <td>TheOldNorth-apricity</td>\n",
       "      <td>327</td>\n",
       "      <td>4</td>\n",
       "      <td>comment</td>\n",
       "      <td>The Entmoot has begun</td>\n",
       "      <td>WritingPrompts</td>\n",
       "      <td>entmoot begun</td>\n",
       "    </tr>\n",
       "  </tbody>\n",
       "</table>\n",
       "</div>"
      ],
      "text/plain": [
       "   index                  name  comment_karma  link_karma     type  \\\n",
       "0      0            vegiraghav          15790       21569  comment   \n",
       "1      1             theoutlet         174587       21576  comment   \n",
       "2      2             NedvedTom           1528         891  comment   \n",
       "3      3                dash_x           6247        1785  comment   \n",
       "4      4  TheOldNorth-apricity            327           4  comment   \n",
       "\n",
       "                                                body       subreddit  \\\n",
       "0             That's gotta be the ball of the match.         Cricket   \n",
       "1  I’m one of those assholes with no taste that p...       AskReddit   \n",
       "2  jade spear, 2pc pale flame, 2pc bloodstained, ...     YunjinMains   \n",
       "3                                       Three Amigos       AskReddit   \n",
       "4                              The Entmoot has begun  WritingPrompts   \n",
       "\n",
       "                                   preprocessed_body  \n",
       "0                                     got ball match  \n",
       "1                     one asshole taste prefers plan  \n",
       "2  jade spear pale flame bloodstained atk phys dm...  \n",
       "3                                        three amigo  \n",
       "4                                      entmoot begun  "
      ]
     },
     "execution_count": 25,
     "metadata": {},
     "output_type": "execute_result"
    }
   ],
   "source": [
    "X_train.head()"
   ]
  },
  {
   "cell_type": "code",
   "execution_count": 26,
   "metadata": {},
   "outputs": [
    {
     "data": {
      "image/png": "[encoded data removed]",
      "text/plain": [
       "<Figure size 432x288 with 1 Axes>"
      ]
     },
     "metadata": {},
     "output_type": "display_data"
    }
   ],
   "source": [
    "##Scammer \n",
    "#pip install wordcloud\n",
    "text=X_train[\"preprocessed_body\"][1]\n",
    "wordcloud = WordCloud(background_color = 'white',  max_words = 50).generate(text)\n",
    "plt.imshow(wordcloud)\n",
    "plt.axis(\"off\")\n",
    "plt.show()"
   ]
  },
  {
   "cell_type": "code",
   "execution_count": 27,
   "metadata": {},
   "outputs": [
    {
     "data": {
      "image/png": "[encoded data removed]",
      "text/plain": [
       "<Figure size 432x288 with 1 Axes>"
      ]
     },
     "metadata": {},
     "output_type": "display_data"
    }
   ],
   "source": [
    "## non Scammer \n",
    "text=X_train[\"preprocessed_body\"][2]\n",
    "wordcloud = WordCloud(background_color = 'white',  max_words = 50).generate(text)\n",
    "plt.imshow(wordcloud)\n",
    "plt.axis(\"off\")\n",
    "plt.show()"
   ]
  },
  {
   "cell_type": "markdown",
   "metadata": {},
   "source": [
    "### Baseline model"
   ]
  },
  {
   "cell_type": "code",
   "execution_count": 28,
   "metadata": {},
   "outputs": [],
   "source": [
    "from sklearn.pipeline import Pipeline, FeatureUnion\n",
    "from sklearn.compose import ColumnTransformer\n",
    "from sklearn.feature_extraction.text import TfidfTransformer\n",
    "from sklearn.feature_extraction.text import CountVectorizer\n",
    "from sklearn.preprocessing import StandardScaler, LabelEncoder\n",
    "\n",
    "class get_estimator(BaseEstimator):\n",
    "    \n",
    "    def __init__(self):\n",
    "       \n",
    "        self.text = ['preprocessed_body']\n",
    "        self.numerical = ['link_karma','comment_karma']\n",
    "        self.categorical = ['type',  'subreddit']\n",
    "        \n",
    "        self.model = Pipeline([\n",
    "        ('vect', CountVectorizer(max_features=30000, analyzer='word', stop_words=None)),\n",
    "        ('tfid', TfidfTransformer()),\n",
    "        ('clf',  LogisticRegression()),\n",
    "        ])\n",
    "\n",
    "        \n",
    "    def fit(self, X, y):\n",
    "        X=preprocess(X)\n",
    "        self.model.fit(X['preprocessed_body'],y)\n",
    "        return self\n",
    " \n",
    "    def predict(self, X):\n",
    "        X=preprocess(X)\n",
    "        pred= self.model.predict(X['preprocessed_body'])\n",
    "        return pred\n",
    "    \n",
    "    def predict_proba(self, X):\n",
    "        X=preprocess(X)\n",
    "        pred= self.model.predict_proba(X['preprocessed_body'])\n",
    "        return pred"
   ]
  },
  {
   "cell_type": "code",
   "execution_count": 29,
   "metadata": {},
   "outputs": [],
   "source": [
    "model=get_estimator()"
   ]
  },
  {
   "cell_type": "code",
   "execution_count": 30,
   "metadata": {},
   "outputs": [
    {
     "data": {
      "text/html": [
       "<style>#sk-container-id-1 {color: black;background-color: white;}#sk-container-id-1 pre{padding: 0;}#sk-container-id-1 div.sk-toggleable {background-color: white;}#sk-container-id-1 label.sk-toggleable__label {cursor: pointer;display: block;width: 100%;margin-bottom: 0;padding: 0.3em;box-sizing: border-box;text-align: center;}#sk-container-id-1 label.sk-toggleable__label-arrow:before {content: \"▸\";float: left;margin-right: 0.25em;color: #696969;}#sk-container-id-1 label.sk-toggleable__label-arrow:hover:before {color: black;}#sk-container-id-1 div.sk-estimator:hover label.sk-toggleable__label-arrow:before {color: black;}#sk-container-id-1 div.sk-toggleable__content {max-height: 0;max-width: 0;overflow: hidden;text-align: left;background-color: #f0f8ff;}#sk-container-id-1 div.sk-toggleable__content pre {margin: 0.2em;color: black;border-radius: 0.25em;background-color: #f0f8ff;}#sk-container-id-1 input.sk-toggleable__control:checked~div.sk-toggleable__content {max-height: 200px;max-width: 100%;overflow: auto;}#sk-container-id-1 input.sk-toggleable__control:checked~label.sk-toggleable__label-arrow:before {content: \"▾\";}#sk-container-id-1 div.sk-estimator input.sk-toggleable__control:checked~label.sk-toggleable__label {background-color: #d4ebff;}#sk-container-id-1 div.sk-label input.sk-toggleable__control:checked~label.sk-toggleable__label {background-color: #d4ebff;}#sk-container-id-1 input.sk-hidden--visually {border: 0;clip: rect(1px 1px 1px 1px);clip: rect(1px, 1px, 1px, 1px);height: 1px;margin: -1px;overflow: hidden;padding: 0;position: absolute;width: 1px;}#sk-container-id-1 div.sk-estimator {font-family: monospace;background-color: #f0f8ff;border: 1px dotted black;border-radius: 0.25em;box-sizing: border-box;margin-bottom: 0.5em;}#sk-container-id-1 div.sk-estimator:hover {background-color: #d4ebff;}#sk-container-id-1 div.sk-parallel-item::after {content: \"\";width: 100%;border-bottom: 1px solid gray;flex-grow: 1;}#sk-container-id-1 div.sk-label:hover label.sk-toggleable__label {background-color: #d4ebff;}#sk-container-id-1 div.sk-serial::before {content: \"\";position: absolute;border-left: 1px solid gray;box-sizing: border-box;top: 0;bottom: 0;left: 50%;z-index: 0;}#sk-container-id-1 div.sk-serial {display: flex;flex-direction: column;align-items: center;background-color: white;padding-right: 0.2em;padding-left: 0.2em;position: relative;}#sk-container-id-1 div.sk-item {position: relative;z-index: 1;}#sk-container-id-1 div.sk-parallel {display: flex;align-items: stretch;justify-content: center;background-color: white;position: relative;}#sk-container-id-1 div.sk-item::before, #sk-container-id-1 div.sk-parallel-item::before {content: \"\";position: absolute;border-left: 1px solid gray;box-sizing: border-box;top: 0;bottom: 0;left: 50%;z-index: -1;}#sk-container-id-1 div.sk-parallel-item {display: flex;flex-direction: column;z-index: 1;position: relative;background-color: white;}#sk-container-id-1 div.sk-parallel-item:first-child::after {align-self: flex-end;width: 50%;}#sk-container-id-1 div.sk-parallel-item:last-child::after {align-self: flex-start;width: 50%;}#sk-container-id-1 div.sk-parallel-item:only-child::after {width: 0;}#sk-container-id-1 div.sk-dashed-wrapped {border: 1px dashed gray;margin: 0 0.4em 0.5em 0.4em;box-sizing: border-box;padding-bottom: 0.4em;background-color: white;}#sk-container-id-1 div.sk-label label {font-family: monospace;font-weight: bold;display: inline-block;line-height: 1.2em;}#sk-container-id-1 div.sk-label-container {text-align: center;}#sk-container-id-1 div.sk-container {/* jupyter's `normalize.less` sets `[hidden] { display: none; }` but bootstrap.min.css set `[hidden] { display: none !important; }` so we also need the `!important` here to be able to override the default hidden behavior on the sphinx rendered scikit-learn.org. See: https://github.com/scikit-learn/scikit-learn/issues/21755 */display: inline-block !important;position: relative;}#sk-container-id-1 div.sk-text-repr-fallback {display: none;}</style><div id=\"sk-container-id-1\" class=\"sk-top-container\"><div class=\"sk-text-repr-fallback\"><pre>get_estimator()</pre><b>In a Jupyter environment, please rerun this cell to show the HTML representation or trust the notebook. <br />On GitHub, the HTML representation is unable to render, please try loading this page with nbviewer.org.</b></div><div class=\"sk-container\" hidden><div class=\"sk-item\"><div class=\"sk-estimator sk-toggleable\"><input class=\"sk-toggleable__control sk-hidden--visually\" id=\"sk-estimator-id-1\" type=\"checkbox\" checked><label for=\"sk-estimator-id-1\" class=\"sk-toggleable__label sk-toggleable__label-arrow\">get_estimator</label><div class=\"sk-toggleable__content\"><pre>get_estimator()</pre></div></div></div></div></div>"
      ],
      "text/plain": [
       "get_estimator()"
      ]
     },
     "execution_count": 30,
     "metadata": {},
     "output_type": "execute_result"
    }
   ],
   "source": [
    "model.fit(data_train,y_train)"
   ]
  },
  {
   "cell_type": "markdown",
   "metadata": {},
   "source": [
    "### Evaluation"
   ]
  },
  {
   "cell_type": "code",
   "execution_count": 31,
   "metadata": {},
   "outputs": [],
   "source": [
    "val_pred = model.predict(data_test)\n",
    "val_pred_proba = model.predict_proba(data_test)"
   ]
  },
  {
   "cell_type": "code",
   "execution_count": 32,
   "metadata": {},
   "outputs": [
    {
     "name": "stdout",
     "output_type": "stream",
     "text": [
      "-------- Predictions information --------\n",
      "(29569, 2) \n",
      "\n",
      "Prediction values count: Counter({0: 25090, 1: 4479}) \n",
      "\n",
      "True values count: 0    20525\n",
      "1     9044\n",
      "Name: label, dtype: int64\n"
     ]
    }
   ],
   "source": [
    "from collections import Counter\n",
    "print(\"-------- Predictions information --------\")\n",
    "print(val_pred_proba.shape,'\\n')\n",
    "print(\"Prediction values count:\",Counter(val_pred),\"\\n\")\n",
    "print(\"True values count:\",y_test.value_counts())"
   ]
  },
  {
   "cell_type": "code",
   "execution_count": 33,
   "metadata": {},
   "outputs": [
    {
     "name": "stdout",
     "output_type": "stream",
     "text": [
      "              precision    recall  f1-score   support\n",
      "\n",
      "           0       0.77      0.94      0.85     20525\n",
      "           1       0.72      0.36      0.48      9044\n",
      "\n",
      "    accuracy                           0.76     29569\n",
      "   macro avg       0.75      0.65      0.66     29569\n",
      "weighted avg       0.76      0.76      0.73     29569\n",
      "\n"
     ]
    }
   ],
   "source": [
    "print(classification_report(y_test, val_pred))"
   ]
  },
  {
   "cell_type": "code",
   "execution_count": 34,
   "metadata": {},
   "outputs": [
    {
     "data": {
      "text/plain": [
       "Text(0.5, 1.0, 'Confusion matrix of predictions on scams')"
      ]
     },
     "execution_count": 34,
     "metadata": {},
     "output_type": "execute_result"
    },
    {
     "data": {
      "image/png": "[encoded data removed]",
      "text/plain": [
       "<Figure size 432x288 with 2 Axes>"
      ]
     },
     "metadata": {},
     "output_type": "display_data"
    }
   ],
   "source": [
    "from sklearn.metrics import confusion_matrix, ConfusionMatrixDisplay\n",
    "plot = ConfusionMatrixDisplay.from_predictions(y_test,val_pred)\n",
    "plt.title(\"Confusion matrix of predictions on scams\")"
   ]
  },
  {
   "cell_type": "code",
   "execution_count": 35,
   "metadata": {},
   "outputs": [
    {
     "name": "stdout",
     "output_type": "stream",
     "text": [
      "0.7620142717034732\n"
     ]
    }
   ],
   "source": [
    "from sklearn.metrics import accuracy_score\n",
    "print(accuracy_score(y_test, val_pred))"
   ]
  },
  {
   "cell_type": "code",
   "execution_count": 36,
   "metadata": {},
   "outputs": [
    {
     "data": {
      "text/plain": [
       "0.6491805146957814"
      ]
     },
     "execution_count": 36,
     "metadata": {},
     "output_type": "execute_result"
    }
   ],
   "source": [
    "from sklearn.metrics import roc_auc_score\n",
    "roc_auc_score(y_test, val_pred)"
   ]
  },
  {
   "cell_type": "markdown",
   "metadata": {},
   "source": [
    "### Submission Details"
   ]
  },
  {
   "cell_type": "markdown",
   "metadata": {},
   "source": [
    "Your RAMP submission should be in the folder \"submissions\" (e.g \"submissions/estimator.py\").\n",
    "\n",
    "The code we gave is a baseline that is made of a pre processing step and a prediction step. You can be creative and search for ways to improve the score !"
   ]
  }
 ],
 "metadata": {
  "kernelspec": {
   "display_name": "base",
   "language": "python",
   "name": "python3"
  },
  "language_info": {
   "codemirror_mode": {
    "name": "ipython",
    "version": 3
   },
   "file_extension": ".py",
   "mimetype": "text/x-python",
   "name": "python",
   "nbconvert_exporter": "python",
   "pygments_lexer": "ipython3",
   "version": "3.8.8"
  },
  "vscode": {
   "interpreter": {
    "hash": "6aaa104a8c589bae4c6e6a336d22df6206a4f32b9a5c3b3292d637229e0c16a8"
   }
  }
 },
 "nbformat": 4,
 "nbformat_minor": 2
}
