{
 "cells": [
  {
   "cell_type": "markdown",
   "metadata": {},
   "source": [
    "# Scam Prediction in Reddit\n",
    "\n",
    "Done by : Zineb Bouharra, Rémi Hurstel, Ivo Bonetti, Ihssane Ghalas, Chaimaa Akharaze, Maroua El-Arni"
   ]
  },
  {
   "cell_type": "markdown",
   "metadata": {},
   "source": [
    "### Problem Statement \n",
    "\n",
    "Online scams are a persistent problem on social media platforms, and Reddit is no exception. Scammers often use manipulative tactics to deceive unsuspecting users into participating in fraudulent schemes, which can result in significant financial loss and other negative consequences. Detecting these scams is a challenging task, as scammers use subtle language and psychological techniques to evade detection. Moreover, the vast and diverse nature of Reddit's user-generated content makes it difficult to identify and analyze all potential scam posts and comments manually. As a result, there is a pressing need for an effective scam prediction model for Reddit that can accurately detect and alert users to potential scams.\n",
    "\n",
    "\n",
    "To address this problem, researchers and developers have been exploring various approaches to predict scams on Reddit. Some of the proposed techniques include using machine learning algorithms, natural language processing, and network analysis to identify patterns and anomalies in Reddit's user-generated content. These approaches aim to develop models that can automatically distinguish between legitimate and fraudulent posts and comments. By leveraging the vast amounts of data available on Reddit, these models can learn to detect subtle cues and characteristics that indicate scam-like behavior.\n",
    "\n",
    "\n",
    "Therefore, the challenge is to develop an effective scam prediction model for Reddit that can accurately identify and alert users to potential scam posts and comments, ultimately reducing the risk of financial harm and improving the overall safety and trustworthiness of the platform."
   ]
  },
  {
   "cell_type": "markdown",
   "metadata": {},
   "source": [
    "### Necessary imports"
   ]
  },
  {
   "cell_type": "code",
   "execution_count": 1,
   "metadata": {},
   "outputs": [
    {
     "name": "stderr",
     "output_type": "stream",
     "text": [
      "[nltk_data] Downloading package omw-1.4 to /home/zineb/nltk_data...\n",
      "[nltk_data]   Package omw-1.4 is already up-to-date!\n",
      "[nltk_data] Downloading package stopwords to /home/zineb/nltk_data...\n",
      "[nltk_data]   Package stopwords is already up-to-date!\n",
      "[nltk_data] Downloading package wordnet to /home/zineb/nltk_data...\n",
      "[nltk_data]   Package wordnet is already up-to-date!\n",
      "[nltk_data] Downloading package punkt to /home/zineb/nltk_data...\n",
      "[nltk_data]   Package punkt is already up-to-date!\n"
     ]
    },
    {
     "data": {
      "text/plain": [
       "True"
      ]
     },
     "execution_count": 1,
     "metadata": {},
     "output_type": "execute_result"
    }
   ],
   "source": [
    "import pandas as pd \n",
    "import matplotlib.pyplot as plt\n",
    "import seaborn as sns\n",
    "from scipy import stats\n",
    "import numpy as np\n",
    "import re\n",
    "import pickle\n",
    "\n",
    "from sklearn.base import BaseEstimator\n",
    "from sklearn.pipeline import Pipeline\n",
    "from sklearn.preprocessing import StandardScaler\n",
    "from sklearn.linear_model import LogisticRegression\n",
    "from sklearn.feature_extraction.text import TfidfTransformer\n",
    "from sklearn.feature_extraction.text import CountVectorizer\n",
    "from sklearn.naive_bayes import MultinomialNB\n",
    "from sklearn.metrics import classification_report\n",
    "from wordcloud import WordCloud\n",
    "\n",
    "import nltk\n",
    "from nltk.corpus import stopwords\n",
    "from nltk.tokenize import word_tokenize\n",
    "from nltk.stem import WordNetLemmatizer\n",
    "\n",
    "lemma = WordNetLemmatizer()\n",
    "stop_words = stopwords.words('english')\n",
    "\n",
    "nltk.download('omw-1.4')\n",
    "nltk.download('stopwords')\n",
    "nltk.download('wordnet')\n",
    "nltk.download('punkt')"
   ]
  },
  {
   "cell_type": "code",
   "execution_count": 2,
   "metadata": {},
   "outputs": [],
   "source": [
    "import warnings\n",
    "warnings.filterwarnings('ignore')"
   ]
  },
  {
   "cell_type": "markdown",
   "metadata": {},
   "source": [
    "### Loading the dataset"
   ]
  },
  {
   "cell_type": "markdown",
   "metadata": {},
   "source": [
    "First, we need to download the dataset."
   ]
  },
  {
   "cell_type": "code",
   "execution_count": 3,
   "metadata": {},
   "outputs": [],
   "source": [
    "!python download_data.py"
   ]
  },
  {
   "cell_type": "markdown",
   "metadata": {},
   "source": [
    "The original data contains 147843 examples that we split into train and test datasets as follows :\n",
    "\n",
    "- The training dataset contains 67% of the original dataset. It is accessible in CSV format in data/train.csv\n",
    "\n",
    "- The testing dataset contains 33% of the original dataset. It is accessible in CSV format in data/test.csv"
   ]
  },
  {
   "cell_type": "code",
   "execution_count": 4,
   "metadata": {},
   "outputs": [],
   "source": [
    "data_train = pd.read_csv('data/train.csv')\n",
    "data_test = pd.read_csv('data/test.csv')"
   ]
  },
  {
   "cell_type": "markdown",
   "metadata": {},
   "source": [
    "### Data Insights"
   ]
  },
  {
   "cell_type": "code",
   "execution_count": 5,
   "metadata": {},
   "outputs": [
    {
     "data": {
      "text/html": [
       "<div>\n",
       "<style scoped>\n",
       "    .dataframe tbody tr th:only-of-type {\n",
       "        vertical-align: middle;\n",
       "    }\n",
       "\n",
       "    .dataframe tbody tr th {\n",
       "        vertical-align: top;\n",
       "    }\n",
       "\n",
       "    .dataframe thead th {\n",
       "        text-align: right;\n",
       "    }\n",
       "</style>\n",
       "<table border=\"1\" class=\"dataframe\">\n",
       "  <thead>\n",
       "    <tr style=\"text-align: right;\">\n",
       "      <th></th>\n",
       "      <th>name</th>\n",
       "      <th>comment_karma</th>\n",
       "      <th>link_karma</th>\n",
       "      <th>type</th>\n",
       "      <th>body</th>\n",
       "      <th>subreddit</th>\n",
       "      <th>label</th>\n",
       "    </tr>\n",
       "  </thead>\n",
       "  <tbody>\n",
       "    <tr>\n",
       "      <th>0</th>\n",
       "      <td>Roonagu</td>\n",
       "      <td>32983</td>\n",
       "      <td>204.0</td>\n",
       "      <td>submission</td>\n",
       "      <td>New Chumbud here :</td>\n",
       "      <td>goodanimemes</td>\n",
       "      <td>0</td>\n",
       "    </tr>\n",
       "    <tr>\n",
       "      <th>1</th>\n",
       "      <td>Prusseen</td>\n",
       "      <td>11100</td>\n",
       "      <td>24056.0</td>\n",
       "      <td>submission</td>\n",
       "      <td>Looking at the comment that inspired this subr...</td>\n",
       "      <td>MurderedByWords</td>\n",
       "      <td>0</td>\n",
       "    </tr>\n",
       "    <tr>\n",
       "      <th>2</th>\n",
       "      <td>Prestigious-Pea-505</td>\n",
       "      <td>203</td>\n",
       "      <td>2778.0</td>\n",
       "      <td>submission</td>\n",
       "      <td>First mind-blowing encounter, and I'm scared a...</td>\n",
       "      <td>sex</td>\n",
       "      <td>0</td>\n",
       "    </tr>\n",
       "    <tr>\n",
       "      <th>3</th>\n",
       "      <td>FrontLineFox20</td>\n",
       "      <td>41692</td>\n",
       "      <td>18021.0</td>\n",
       "      <td>submission</td>\n",
       "      <td>Seriously, can we talk about, like, folks who ...</td>\n",
       "      <td>ReformedHumor</td>\n",
       "      <td>0</td>\n",
       "    </tr>\n",
       "    <tr>\n",
       "      <th>4</th>\n",
       "      <td>flabbergasted7070</td>\n",
       "      <td>5695</td>\n",
       "      <td>2809.0</td>\n",
       "      <td>submission</td>\n",
       "      <td>I've never seen an anime but would love to get...</td>\n",
       "      <td>anime</td>\n",
       "      <td>0</td>\n",
       "    </tr>\n",
       "  </tbody>\n",
       "</table>\n",
       "</div>"
      ],
      "text/plain": [
       "                  name comment_karma  link_karma        type  \\\n",
       "0              Roonagu         32983       204.0  submission   \n",
       "1             Prusseen         11100     24056.0  submission   \n",
       "2  Prestigious-Pea-505           203      2778.0  submission   \n",
       "3       FrontLineFox20         41692     18021.0  submission   \n",
       "4    flabbergasted7070          5695      2809.0  submission   \n",
       "\n",
       "                                                body        subreddit  label  \n",
       "0                                New Chumbud here :      goodanimemes      0  \n",
       "1  Looking at the comment that inspired this subr...  MurderedByWords      0  \n",
       "2  First mind-blowing encounter, and I'm scared a...              sex      0  \n",
       "3  Seriously, can we talk about, like, folks who ...    ReformedHumor      0  \n",
       "4  I've never seen an anime but would love to get...            anime      0  "
      ]
     },
     "execution_count": 5,
     "metadata": {},
     "output_type": "execute_result"
    }
   ],
   "source": [
    "data_train.head()"
   ]
  },
  {
   "cell_type": "markdown",
   "metadata": {},
   "source": [
    "Karma features are reference of the popularity of a post. The higher a karma feature is, the more popular the post is."
   ]
  },
  {
   "cell_type": "code",
   "execution_count": 6,
   "metadata": {},
   "outputs": [
    {
     "data": {
      "text/plain": [
       "(118275, 7)"
      ]
     },
     "execution_count": 6,
     "metadata": {},
     "output_type": "execute_result"
    }
   ],
   "source": [
    "data_train.shape"
   ]
  },
  {
   "cell_type": "code",
   "execution_count": 7,
   "metadata": {},
   "outputs": [
    {
     "data": {
      "text/html": [
       "<div>\n",
       "<style scoped>\n",
       "    .dataframe tbody tr th:only-of-type {\n",
       "        vertical-align: middle;\n",
       "    }\n",
       "\n",
       "    .dataframe tbody tr th {\n",
       "        vertical-align: top;\n",
       "    }\n",
       "\n",
       "    .dataframe thead th {\n",
       "        text-align: right;\n",
       "    }\n",
       "</style>\n",
       "<table border=\"1\" class=\"dataframe\">\n",
       "  <thead>\n",
       "    <tr style=\"text-align: right;\">\n",
       "      <th></th>\n",
       "      <th>name</th>\n",
       "      <th>comment_karma</th>\n",
       "      <th>link_karma</th>\n",
       "      <th>type</th>\n",
       "      <th>body</th>\n",
       "      <th>subreddit</th>\n",
       "      <th>label</th>\n",
       "    </tr>\n",
       "  </thead>\n",
       "  <tbody>\n",
       "    <tr>\n",
       "      <th>0</th>\n",
       "      <td>JadooGrr</td>\n",
       "      <td>1028</td>\n",
       "      <td>775.0</td>\n",
       "      <td>submission</td>\n",
       "      <td>Is Gloo good? : [removed]\\n\\n[View Poll](https...</td>\n",
       "      <td>MobileLegendsGame</td>\n",
       "      <td>0.0</td>\n",
       "    </tr>\n",
       "    <tr>\n",
       "      <th>1</th>\n",
       "      <td>Woolliza</td>\n",
       "      <td>17160</td>\n",
       "      <td>3927.0</td>\n",
       "      <td>comment</td>\n",
       "      <td>First thing I noticed too!</td>\n",
       "      <td>WhatsWrongWithYourDog</td>\n",
       "      <td>0.0</td>\n",
       "    </tr>\n",
       "    <tr>\n",
       "      <th>2</th>\n",
       "      <td>upai_nai</td>\n",
       "      <td>7532</td>\n",
       "      <td>2025.0</td>\n",
       "      <td>submission</td>\n",
       "      <td>People : People will do the dumbest, stupidest...</td>\n",
       "      <td>Thoughts</td>\n",
       "      <td>0.0</td>\n",
       "    </tr>\n",
       "    <tr>\n",
       "      <th>3</th>\n",
       "      <td>mariery</td>\n",
       "      <td>4289</td>\n",
       "      <td>2726.0</td>\n",
       "      <td>submission</td>\n",
       "      <td>Finally reached 1000 rapid on chess.com! I beg...</td>\n",
       "      <td>chessbeginners</td>\n",
       "      <td>0.0</td>\n",
       "    </tr>\n",
       "    <tr>\n",
       "      <th>4</th>\n",
       "      <td>devon_336</td>\n",
       "      <td>17931</td>\n",
       "      <td>757.0</td>\n",
       "      <td>submission</td>\n",
       "      <td>Nearly done, thank y’all so much! I just gotta...</td>\n",
       "      <td>crochet</td>\n",
       "      <td>0.0</td>\n",
       "    </tr>\n",
       "  </tbody>\n",
       "</table>\n",
       "</div>"
      ],
      "text/plain": [
       "        name comment_karma  link_karma        type  \\\n",
       "0   JadooGrr          1028       775.0  submission   \n",
       "1   Woolliza         17160      3927.0     comment   \n",
       "2   upai_nai          7532      2025.0  submission   \n",
       "3    mariery          4289      2726.0  submission   \n",
       "4  devon_336         17931       757.0  submission   \n",
       "\n",
       "                                                body              subreddit  \\\n",
       "0  Is Gloo good? : [removed]\\n\\n[View Poll](https...      MobileLegendsGame   \n",
       "1                         First thing I noticed too!  WhatsWrongWithYourDog   \n",
       "2  People : People will do the dumbest, stupidest...               Thoughts   \n",
       "3  Finally reached 1000 rapid on chess.com! I beg...         chessbeginners   \n",
       "4  Nearly done, thank y’all so much! I just gotta...                crochet   \n",
       "\n",
       "   label  \n",
       "0    0.0  \n",
       "1    0.0  \n",
       "2    0.0  \n",
       "3    0.0  \n",
       "4    0.0  "
      ]
     },
     "execution_count": 7,
     "metadata": {},
     "output_type": "execute_result"
    }
   ],
   "source": [
    "data_test.head()"
   ]
  },
  {
   "cell_type": "code",
   "execution_count": 8,
   "metadata": {},
   "outputs": [
    {
     "data": {
      "text/plain": [
       "(29570, 7)"
      ]
     },
     "execution_count": 8,
     "metadata": {},
     "output_type": "execute_result"
    }
   ],
   "source": [
    "data_test.shape"
   ]
  },
  {
   "cell_type": "code",
   "execution_count": 9,
   "metadata": {},
   "outputs": [
    {
     "name": "stdout",
     "output_type": "stream",
     "text": [
      "<class 'pandas.core.frame.DataFrame'>\n",
      "RangeIndex: 118275 entries, 0 to 118274\n",
      "Data columns (total 7 columns):\n",
      " #   Column         Non-Null Count   Dtype  \n",
      "---  ------         --------------   -----  \n",
      " 0   name           118275 non-null  object \n",
      " 1   comment_karma  118275 non-null  object \n",
      " 2   link_karma     118274 non-null  float64\n",
      " 3   type           118274 non-null  object \n",
      " 4   body           118273 non-null  object \n",
      " 5   subreddit      118273 non-null  object \n",
      " 6   label          118275 non-null  int64  \n",
      "dtypes: float64(1), int64(1), object(5)\n",
      "memory usage: 6.3+ MB\n"
     ]
    }
   ],
   "source": [
    "data_train.info()"
   ]
  },
  {
   "cell_type": "code",
   "execution_count": 10,
   "metadata": {},
   "outputs": [
    {
     "data": {
      "text/html": [
       "<div>\n",
       "<style scoped>\n",
       "    .dataframe tbody tr th:only-of-type {\n",
       "        vertical-align: middle;\n",
       "    }\n",
       "\n",
       "    .dataframe tbody tr th {\n",
       "        vertical-align: top;\n",
       "    }\n",
       "\n",
       "    .dataframe thead th {\n",
       "        text-align: right;\n",
       "    }\n",
       "</style>\n",
       "<table border=\"1\" class=\"dataframe\">\n",
       "  <thead>\n",
       "    <tr style=\"text-align: right;\">\n",
       "      <th></th>\n",
       "      <th>link_karma</th>\n",
       "      <th>label</th>\n",
       "    </tr>\n",
       "  </thead>\n",
       "  <tbody>\n",
       "    <tr>\n",
       "      <th>count</th>\n",
       "      <td>1.182740e+05</td>\n",
       "      <td>118275.000000</td>\n",
       "    </tr>\n",
       "    <tr>\n",
       "      <th>mean</th>\n",
       "      <td>7.093382e+03</td>\n",
       "      <td>0.304274</td>\n",
       "    </tr>\n",
       "    <tr>\n",
       "      <th>std</th>\n",
       "      <td>7.794939e+04</td>\n",
       "      <td>0.460101</td>\n",
       "    </tr>\n",
       "    <tr>\n",
       "      <th>min</th>\n",
       "      <td>1.000000e+00</td>\n",
       "      <td>0.000000</td>\n",
       "    </tr>\n",
       "    <tr>\n",
       "      <th>25%</th>\n",
       "      <td>1.010000e+02</td>\n",
       "      <td>0.000000</td>\n",
       "    </tr>\n",
       "    <tr>\n",
       "      <th>50%</th>\n",
       "      <td>8.945000e+02</td>\n",
       "      <td>0.000000</td>\n",
       "    </tr>\n",
       "    <tr>\n",
       "      <th>75%</th>\n",
       "      <td>4.469000e+03</td>\n",
       "      <td>1.000000</td>\n",
       "    </tr>\n",
       "    <tr>\n",
       "      <th>max</th>\n",
       "      <td>4.841046e+06</td>\n",
       "      <td>1.000000</td>\n",
       "    </tr>\n",
       "  </tbody>\n",
       "</table>\n",
       "</div>"
      ],
      "text/plain": [
       "         link_karma          label\n",
       "count  1.182740e+05  118275.000000\n",
       "mean   7.093382e+03       0.304274\n",
       "std    7.794939e+04       0.460101\n",
       "min    1.000000e+00       0.000000\n",
       "25%    1.010000e+02       0.000000\n",
       "50%    8.945000e+02       0.000000\n",
       "75%    4.469000e+03       1.000000\n",
       "max    4.841046e+06       1.000000"
      ]
     },
     "execution_count": 10,
     "metadata": {},
     "output_type": "execute_result"
    }
   ],
   "source": [
    "data_train.describe()"
   ]
  },
  {
   "cell_type": "code",
   "execution_count": 11,
   "metadata": {},
   "outputs": [
    {
     "data": {
      "text/html": [
       "<div>\n",
       "<style scoped>\n",
       "    .dataframe tbody tr th:only-of-type {\n",
       "        vertical-align: middle;\n",
       "    }\n",
       "\n",
       "    .dataframe tbody tr th {\n",
       "        vertical-align: top;\n",
       "    }\n",
       "\n",
       "    .dataframe thead th {\n",
       "        text-align: right;\n",
       "    }\n",
       "</style>\n",
       "<table border=\"1\" class=\"dataframe\">\n",
       "  <thead>\n",
       "    <tr style=\"text-align: right;\">\n",
       "      <th></th>\n",
       "      <th>name</th>\n",
       "      <th>comment_karma</th>\n",
       "      <th>type</th>\n",
       "      <th>body</th>\n",
       "      <th>subreddit</th>\n",
       "    </tr>\n",
       "  </thead>\n",
       "  <tbody>\n",
       "    <tr>\n",
       "      <th>count</th>\n",
       "      <td>118275</td>\n",
       "      <td>118275</td>\n",
       "      <td>118274</td>\n",
       "      <td>118273</td>\n",
       "      <td>118273</td>\n",
       "    </tr>\n",
       "    <tr>\n",
       "      <th>unique</th>\n",
       "      <td>9127</td>\n",
       "      <td>5037</td>\n",
       "      <td>2</td>\n",
       "      <td>114677</td>\n",
       "      <td>15801</td>\n",
       "    </tr>\n",
       "    <tr>\n",
       "      <th>top</th>\n",
       "      <td>silver_starfire</td>\n",
       "      <td>0</td>\n",
       "      <td>comment</td>\n",
       "      <td>u/savevideo</td>\n",
       "      <td>AskReddit</td>\n",
       "    </tr>\n",
       "    <tr>\n",
       "      <th>freq</th>\n",
       "      <td>20</td>\n",
       "      <td>2178</td>\n",
       "      <td>66693</td>\n",
       "      <td>102</td>\n",
       "      <td>3167</td>\n",
       "    </tr>\n",
       "  </tbody>\n",
       "</table>\n",
       "</div>"
      ],
      "text/plain": [
       "                   name comment_karma     type         body  subreddit\n",
       "count            118275        118275   118274       118273     118273\n",
       "unique             9127          5037        2       114677      15801\n",
       "top     silver_starfire             0  comment  u/savevideo  AskReddit\n",
       "freq                 20          2178    66693          102       3167"
      ]
     },
     "execution_count": 11,
     "metadata": {},
     "output_type": "execute_result"
    }
   ],
   "source": [
    "data_train.describe(include=object)"
   ]
  },
  {
   "cell_type": "markdown",
   "metadata": {},
   "source": [
    "As we can see, our dataset contains basically two types of data, some columns are integers while the others are objects.\n",
    "\n",
    "In the following part, we will do some data exploration to have a better understanding of it."
   ]
  },
  {
   "cell_type": "markdown",
   "metadata": {},
   "source": [
    "### Data Exploration"
   ]
  },
  {
   "cell_type": "markdown",
   "metadata": {},
   "source": [
    "First, we check if there are any missing values in the dataset"
   ]
  },
  {
   "cell_type": "code",
   "execution_count": 12,
   "metadata": {},
   "outputs": [
    {
     "data": {
      "text/plain": [
       "name             0\n",
       "comment_karma    0\n",
       "link_karma       1\n",
       "type             1\n",
       "body             2\n",
       "subreddit        2\n",
       "label            0\n",
       "dtype: int64"
      ]
     },
     "execution_count": 12,
     "metadata": {},
     "output_type": "execute_result"
    }
   ],
   "source": [
    "data_train.isna().sum()"
   ]
  },
  {
   "cell_type": "code",
   "execution_count": 13,
   "metadata": {},
   "outputs": [],
   "source": [
    "data_train = data_train.dropna(axis=0)"
   ]
  },
  {
   "cell_type": "code",
   "execution_count": 14,
   "metadata": {},
   "outputs": [
    {
     "data": {
      "text/plain": [
       "name             1\n",
       "comment_karma    0\n",
       "link_karma       0\n",
       "type             1\n",
       "body             1\n",
       "subreddit        2\n",
       "label            2\n",
       "dtype: int64"
      ]
     },
     "execution_count": 14,
     "metadata": {},
     "output_type": "execute_result"
    }
   ],
   "source": [
    "data_test.isna().sum()"
   ]
  },
  {
   "cell_type": "code",
   "execution_count": 15,
   "metadata": {},
   "outputs": [],
   "source": [
    "data_test = data_test.dropna(axis=0)"
   ]
  },
  {
   "cell_type": "markdown",
   "metadata": {},
   "source": [
    "Due to the very small amount of missing values in the dataset compared to the amount of data provided, dropping the line containnig the missing value will not have much effect on the quality of our data and then, of the prediction. "
   ]
  },
  {
   "cell_type": "markdown",
   "metadata": {},
   "source": [
    "Here, we plot the counts of comments and submissions."
   ]
  },
  {
   "cell_type": "code",
   "execution_count": 16,
   "metadata": {},
   "outputs": [
    {
     "name": "stdout",
     "output_type": "stream",
     "text": [
      "comment       66691\n",
      "submission    51581\n",
      "Name: type, dtype: int64\n"
     ]
    },
    {
     "data": {
      "text/plain": [
       "<AxesSubplot:>"
      ]
     },
     "execution_count": 16,
     "metadata": {},
     "output_type": "execute_result"
    },
    {
     "data": {
      "image/png": "[encoded data removed]",
      "text/plain": [
       "<Figure size 432x288 with 1 Axes>"
      ]
     },
     "metadata": {
      "needs_background": "light"
     },
     "output_type": "display_data"
    }
   ],
   "source": [
    "print(data_train.type.value_counts())\n",
    "data_train.type.value_counts().plot(kind='bar')"
   ]
  },
  {
   "cell_type": "markdown",
   "metadata": {},
   "source": [
    "And then we plot the count of each label (0,1)."
   ]
  },
  {
   "cell_type": "code",
   "execution_count": 17,
   "metadata": {},
   "outputs": [
    {
     "name": "stdout",
     "output_type": "stream",
     "text": [
      "0    82285\n",
      "1    35987\n",
      "Name: label, dtype: int64\n"
     ]
    },
    {
     "data": {
      "text/plain": [
       "<AxesSubplot:>"
      ]
     },
     "execution_count": 17,
     "metadata": {},
     "output_type": "execute_result"
    },
    {
     "data": {
      "image/png": "[encoded data removed]",
      "text/plain": [
       "<Figure size 432x288 with 1 Axes>"
      ]
     },
     "metadata": {
      "needs_background": "light"
     },
     "output_type": "display_data"
    }
   ],
   "source": [
    "print(data_train.label.value_counts())\n",
    "data_train.label.value_counts().plot(kind='bar')"
   ]
  },
  {
   "cell_type": "markdown",
   "metadata": {},
   "source": [
    "Let's plot the distribution of the variable type when it comes to our target."
   ]
  },
  {
   "cell_type": "code",
   "execution_count": 18,
   "metadata": {},
   "outputs": [
    {
     "data": {
      "text/plain": [
       "<matplotlib.legend.Legend at 0x7f5d19a50070>"
      ]
     },
     "execution_count": 18,
     "metadata": {},
     "output_type": "execute_result"
    },
    {
     "data": {
      "image/png": "[encoded data removed]",
      "text/plain": [
       "<Figure size 1080x504 with 1 Axes>"
      ]
     },
     "metadata": {
      "needs_background": "light"
     },
     "output_type": "display_data"
    }
   ],
   "source": [
    "vals = list(data_train['type'].unique())\n",
    "plt.figure(figsize=(15,7))\n",
    "for val in vals:\n",
    "    sns.kdeplot(data_train[data_train['type']==val]['label'],label=val,shade=True)\n",
    "plt.legend()"
   ]
  },
  {
   "cell_type": "markdown",
   "metadata": {},
   "source": [
    "Let's now plot the correlation between the numerical features"
   ]
  },
  {
   "cell_type": "code",
   "execution_count": 19,
   "metadata": {},
   "outputs": [
    {
     "data": {
      "text/plain": [
       "<AxesSubplot:>"
      ]
     },
     "execution_count": 19,
     "metadata": {},
     "output_type": "execute_result"
    },
    {
     "data": {
      "image/png": "[encoded data removed]",
      "text/plain": [
       "<Figure size 720x432 with 2 Axes>"
      ]
     },
     "metadata": {
      "needs_background": "light"
     },
     "output_type": "display_data"
    }
   ],
   "source": [
    "plt.figure(figsize=(10,6))\n",
    "sns.heatmap(data_train.corr(method='pearson'),annot=True)"
   ]
  },
  {
   "cell_type": "markdown",
   "metadata": {},
   "source": [
    "We can plot a pair plot. This will show us how numerical feature's points are distributed in relation to other features."
   ]
  },
  {
   "cell_type": "code",
   "execution_count": 20,
   "metadata": {},
   "outputs": [
    {
     "data": {
      "text/plain": [
       "[]"
      ]
     },
     "execution_count": 20,
     "metadata": {},
     "output_type": "execute_result"
    },
    {
     "data": {
      "image/png": "[encoded data removed]",
      "text/plain": [
       "<Figure size 218.05x180 with 2 Axes>"
      ]
     },
     "metadata": {},
     "output_type": "display_data"
    }
   ],
   "source": [
    "\n",
    "sns.set_theme(style='ticks')\n",
    "sns.pairplot(data_train.iloc[:100], hue='label')\n",
    "plt.title('Pair-plot')\n",
    "plt.plot()"
   ]
  },
  {
   "cell_type": "code",
   "execution_count": 21,
   "metadata": {},
   "outputs": [
    {
     "data": {
      "image/png": "[encoded data removed]",
      "text/plain": [
       "<Figure size 720x720 with 2 Axes>"
      ]
     },
     "metadata": {},
     "output_type": "display_data"
    }
   ],
   "source": [
    "data_train.hist(figsize=(10, 10), bins = 50, xlabelsize=8, ylabelsize=8)\n",
    "plt.show()"
   ]
  },
  {
   "cell_type": "markdown",
   "metadata": {},
   "source": [
    "### Pre processing"
   ]
  },
  {
   "cell_type": "code",
   "execution_count": 22,
   "metadata": {},
   "outputs": [],
   "source": [
    "y_train = data_train['label']\n",
    "y_test = data_test['label']\n",
    "\n",
    "del data_train['label']\n",
    "del data_test['label']"
   ]
  },
  {
   "cell_type": "code",
   "execution_count": 23,
   "metadata": {},
   "outputs": [
    {
     "data": {
      "text/plain": [
       "'Hilarious ! '"
      ]
     },
     "execution_count": 23,
     "metadata": {},
     "output_type": "execute_result"
    }
   ],
   "source": [
    "import re\n",
    "def remove_emoji(string):\n",
    "    \"function to remove emojis\"\n",
    "    emoji_pattern = re.compile(\"[\"\n",
    "                           u\"\\U0001F600-\\U0001F64F\" # emoticons\n",
    "                           u\"\\U0001F300-\\U0001F5FF\" # symbols & pictographs\n",
    "                           u\"\\U0001F680-\\U0001F6FF\" # transport & map symbols\n",
    "                           u\"\\U0001F1E0-\\U0001F1FF\" # flags (iOS)\n",
    "                           u\"\\U00002702-\\U000027B0\"\n",
    "                           u\"\\U000024C2-\\U0001F251\"\n",
    "                           \"]+\", flags=re.UNICODE)\n",
    "    return emoji_pattern.sub(r'', string)\n",
    "\n",
    "remove_emoji(\"Hilarious 😂! \")"
   ]
  },
  {
   "cell_type": "code",
   "execution_count": 24,
   "metadata": {},
   "outputs": [],
   "source": [
    "def preprocessing(x):\n",
    "     \"\"\"preprocessing the text\"\"\"\n",
    "     corp = str(x).lower()  #lower\n",
    "     corp = re.sub('[^a-zA-Z]+',' ', corp).strip() #keep text\n",
    "     #corp = re.sub('[0-9]+', '', corp)\n",
    "     corp=remove_emoji(corp) # remove emojis\n",
    "     tokens = word_tokenize(corp) #tokenization\n",
    "     words = [w for w in tokens if len(w) > 2 if not w in stop_words] # remove stop words and words with less than two caracters\n",
    "     lemmatize = [lemma.lemmatize(w) for w in words] #lemmatization\n",
    "     l=(' ').join(lemmatize)\n",
    "     return l\n",
    " \n",
    "def preprocess(X):\n",
    "    preprocess_text = [preprocessing(i) for i in X['body']]\n",
    "    X[\"preprocessed_body\"] = preprocess_text\n",
    "    return X"
   ]
  },
  {
   "cell_type": "code",
   "execution_count": 25,
   "metadata": {},
   "outputs": [],
   "source": [
    "### preprocessing train/test\n",
    "X_train = preprocess(data_train)\n",
    "X_test = preprocess(data_test)\n",
    "X_test=X_test.reset_index()\n",
    "X_train=X_train.reset_index()"
   ]
  },
  {
   "cell_type": "markdown",
   "metadata": {},
   "source": [
    "Here is a glimpse of how our new training data looks after the pre processing step."
   ]
  },
  {
   "cell_type": "code",
   "execution_count": 26,
   "metadata": {},
   "outputs": [
    {
     "data": {
      "text/html": [
       "<div>\n",
       "<style scoped>\n",
       "    .dataframe tbody tr th:only-of-type {\n",
       "        vertical-align: middle;\n",
       "    }\n",
       "\n",
       "    .dataframe tbody tr th {\n",
       "        vertical-align: top;\n",
       "    }\n",
       "\n",
       "    .dataframe thead th {\n",
       "        text-align: right;\n",
       "    }\n",
       "</style>\n",
       "<table border=\"1\" class=\"dataframe\">\n",
       "  <thead>\n",
       "    <tr style=\"text-align: right;\">\n",
       "      <th></th>\n",
       "      <th>index</th>\n",
       "      <th>name</th>\n",
       "      <th>comment_karma</th>\n",
       "      <th>link_karma</th>\n",
       "      <th>type</th>\n",
       "      <th>body</th>\n",
       "      <th>subreddit</th>\n",
       "      <th>preprocessed_body</th>\n",
       "    </tr>\n",
       "  </thead>\n",
       "  <tbody>\n",
       "    <tr>\n",
       "      <th>0</th>\n",
       "      <td>0</td>\n",
       "      <td>Roonagu</td>\n",
       "      <td>32983</td>\n",
       "      <td>204.0</td>\n",
       "      <td>submission</td>\n",
       "      <td>New Chumbud here :</td>\n",
       "      <td>goodanimemes</td>\n",
       "      <td>new chumbud</td>\n",
       "    </tr>\n",
       "    <tr>\n",
       "      <th>1</th>\n",
       "      <td>1</td>\n",
       "      <td>Prusseen</td>\n",
       "      <td>11100</td>\n",
       "      <td>24056.0</td>\n",
       "      <td>submission</td>\n",
       "      <td>Looking at the comment that inspired this subr...</td>\n",
       "      <td>MurderedByWords</td>\n",
       "      <td>looking comment inspired subreddit immediately...</td>\n",
       "    </tr>\n",
       "    <tr>\n",
       "      <th>2</th>\n",
       "      <td>2</td>\n",
       "      <td>Prestigious-Pea-505</td>\n",
       "      <td>203</td>\n",
       "      <td>2778.0</td>\n",
       "      <td>submission</td>\n",
       "      <td>First mind-blowing encounter, and I'm scared a...</td>\n",
       "      <td>sex</td>\n",
       "      <td>first mind blowing encounter scared already re...</td>\n",
       "    </tr>\n",
       "    <tr>\n",
       "      <th>3</th>\n",
       "      <td>3</td>\n",
       "      <td>FrontLineFox20</td>\n",
       "      <td>41692</td>\n",
       "      <td>18021.0</td>\n",
       "      <td>submission</td>\n",
       "      <td>Seriously, can we talk about, like, folks who ...</td>\n",
       "      <td>ReformedHumor</td>\n",
       "      <td>seriously talk like folk deny trinity something</td>\n",
       "    </tr>\n",
       "    <tr>\n",
       "      <th>4</th>\n",
       "      <td>4</td>\n",
       "      <td>flabbergasted7070</td>\n",
       "      <td>5695</td>\n",
       "      <td>2809.0</td>\n",
       "      <td>submission</td>\n",
       "      <td>I've never seen an anime but would love to get...</td>\n",
       "      <td>anime</td>\n",
       "      <td>never seen anime would love get watch sister f...</td>\n",
       "    </tr>\n",
       "  </tbody>\n",
       "</table>\n",
       "</div>"
      ],
      "text/plain": [
       "   index                 name comment_karma  link_karma        type  \\\n",
       "0      0              Roonagu         32983       204.0  submission   \n",
       "1      1             Prusseen         11100     24056.0  submission   \n",
       "2      2  Prestigious-Pea-505           203      2778.0  submission   \n",
       "3      3       FrontLineFox20         41692     18021.0  submission   \n",
       "4      4    flabbergasted7070          5695      2809.0  submission   \n",
       "\n",
       "                                                body        subreddit  \\\n",
       "0                                New Chumbud here :      goodanimemes   \n",
       "1  Looking at the comment that inspired this subr...  MurderedByWords   \n",
       "2  First mind-blowing encounter, and I'm scared a...              sex   \n",
       "3  Seriously, can we talk about, like, folks who ...    ReformedHumor   \n",
       "4  I've never seen an anime but would love to get...            anime   \n",
       "\n",
       "                                   preprocessed_body  \n",
       "0                                        new chumbud  \n",
       "1  looking comment inspired subreddit immediately...  \n",
       "2  first mind blowing encounter scared already re...  \n",
       "3    seriously talk like folk deny trinity something  \n",
       "4  never seen anime would love get watch sister f...  "
      ]
     },
     "execution_count": 26,
     "metadata": {},
     "output_type": "execute_result"
    }
   ],
   "source": [
    "X_train.head()"
   ]
  },
  {
   "cell_type": "code",
   "execution_count": 27,
   "metadata": {},
   "outputs": [
    {
     "data": {
      "image/png": "[encoded data removed]",
      "text/plain": [
       "<Figure size 432x288 with 1 Axes>"
      ]
     },
     "metadata": {},
     "output_type": "display_data"
    }
   ],
   "source": [
    "##Scammer \n",
    "#pip install wordcloud\n",
    "text=X_train[\"preprocessed_body\"][1]\n",
    "wordcloud = WordCloud(background_color = 'white',  max_words = 50).generate(text)\n",
    "plt.imshow(wordcloud)\n",
    "plt.axis(\"off\")\n",
    "plt.show()"
   ]
  },
  {
   "cell_type": "code",
   "execution_count": 28,
   "metadata": {},
   "outputs": [
    {
     "data": {
      "image/png": "[encoded data removed]",
      "text/plain": [
       "<Figure size 432x288 with 1 Axes>"
      ]
     },
     "metadata": {},
     "output_type": "display_data"
    }
   ],
   "source": [
    "## non Scammer \n",
    "text=X_train[\"preprocessed_body\"][2]\n",
    "wordcloud = WordCloud(background_color = 'white',  max_words = 50).generate(text)\n",
    "plt.imshow(wordcloud)\n",
    "plt.axis(\"off\")\n",
    "plt.show()"
   ]
  },
  {
   "cell_type": "markdown",
   "metadata": {},
   "source": [
    "### Baseline model"
   ]
  },
  {
   "cell_type": "code",
   "execution_count": 29,
   "metadata": {},
   "outputs": [],
   "source": [
    "from sklearn.pipeline import Pipeline, FeatureUnion\n",
    "from sklearn.compose import ColumnTransformer\n",
    "from sklearn.feature_extraction.text import TfidfTransformer\n",
    "from sklearn.feature_extraction.text import CountVectorizer\n",
    "from sklearn.preprocessing import StandardScaler, LabelEncoder\n",
    "\n",
    "class get_estimator(BaseEstimator):\n",
    "    \n",
    "    def __init__(self):\n",
    "       \n",
    "        self.text = ['preprocessed_body']\n",
    "        self.numerical = ['link_karma','comment_karma']\n",
    "        self.categorical = ['type',  'subreddit']\n",
    "        \n",
    "        self.model = Pipeline([\n",
    "        ('vect', CountVectorizer(max_features=30000, analyzer='word', stop_words=None)),\n",
    "        ('tfid', TfidfTransformer()),\n",
    "        ('clf',  LogisticRegression()),\n",
    "        ])\n",
    "\n",
    "        \n",
    "    def fit(self, X, y):\n",
    "        X=preprocess(X)\n",
    "        self.model.fit(X['preprocessed_body'],y)\n",
    "        return self\n",
    " \n",
    "    def predict(self, X):\n",
    "        X=preprocess(X)\n",
    "        pred= self.model.predict(X['preprocessed_body'])\n",
    "        return pred\n",
    "    \n",
    "    def predict_proba(self, X):\n",
    "        X=preprocess(X)\n",
    "        pred= self.model.predict_proba(X['preprocessed_body'])\n",
    "        return pred"
   ]
  },
  {
   "cell_type": "code",
   "execution_count": 30,
   "metadata": {},
   "outputs": [],
   "source": [
    "model=get_estimator()"
   ]
  },
  {
   "cell_type": "code",
   "execution_count": 31,
   "metadata": {},
   "outputs": [
    {
     "data": {
      "text/plain": [
       "get_estimator()"
      ]
     },
     "execution_count": 31,
     "metadata": {},
     "output_type": "execute_result"
    }
   ],
   "source": [
    "model.fit(data_train,y_train)"
   ]
  },
  {
   "cell_type": "markdown",
   "metadata": {},
   "source": [
    "### Evaluation"
   ]
  },
  {
   "cell_type": "code",
   "execution_count": 32,
   "metadata": {},
   "outputs": [],
   "source": [
    "val_pred = model.predict(data_test)\n",
    "val_pred_proba = model.predict_proba(data_test)\n"
   ]
  },
  {
   "cell_type": "code",
   "execution_count": 33,
   "metadata": {},
   "outputs": [
    {
     "name": "stdout",
     "output_type": "stream",
     "text": [
      "-------- Predictions information --------\n",
      "(29568, 2) \n",
      "\n",
      "Prediction values count: Counter({0: 25030, 1: 4538}) \n",
      "\n",
      "True values count: 0.0    20631\n",
      "1.0     8937\n",
      "Name: label, dtype: int64\n"
     ]
    }
   ],
   "source": [
    "from collections import Counter\n",
    "print(\"-------- Predictions information --------\")\n",
    "print(val_pred_proba.shape,'\\n')\n",
    "print(\"Prediction values count:\",Counter(val_pred),\"\\n\")\n",
    "print(\"True values count:\",y_test.value_counts())\n",
    "\n"
   ]
  },
  {
   "cell_type": "code",
   "execution_count": 34,
   "metadata": {},
   "outputs": [
    {
     "name": "stdout",
     "output_type": "stream",
     "text": [
      "              precision    recall  f1-score   support\n",
      "\n",
      "         0.0       0.77      0.94      0.85     20631\n",
      "         1.0       0.72      0.37      0.49      8937\n",
      "\n",
      "    accuracy                           0.77     29568\n",
      "   macro avg       0.75      0.65      0.67     29568\n",
      "weighted avg       0.76      0.77      0.74     29568\n",
      "\n"
     ]
    }
   ],
   "source": [
    "print(classification_report(y_test, val_pred))"
   ]
  },
  {
   "cell_type": "code",
   "execution_count": 35,
   "metadata": {},
   "outputs": [
    {
     "data": {
      "text/plain": [
       "Text(0.5, 1.0, 'Confusion matrix of predictions on scams')"
      ]
     },
     "execution_count": 35,
     "metadata": {},
     "output_type": "execute_result"
    },
    {
     "data": {
      "image/png": "[encoded data removed]",
      "text/plain": [
       "<Figure size 432x288 with 2 Axes>"
      ]
     },
     "metadata": {},
     "output_type": "display_data"
    }
   ],
   "source": [
    "from sklearn.metrics import confusion_matrix, ConfusionMatrixDisplay\n",
    "plot = ConfusionMatrixDisplay.from_predictions(y_test,val_pred)\n",
    "plt.title(\"Confusion matrix of predictions on scams\")"
   ]
  },
  {
   "cell_type": "code",
   "execution_count": 36,
   "metadata": {},
   "outputs": [
    {
     "name": "stdout",
     "output_type": "stream",
     "text": [
      "0.7667410714285714\n"
     ]
    }
   ],
   "source": [
    "from sklearn.metrics import accuracy_score\n",
    "print(accuracy_score(y_test, val_pred))"
   ]
  },
  {
   "cell_type": "code",
   "execution_count": 37,
   "metadata": {},
   "outputs": [
    {
     "data": {
      "text/plain": [
       "0.6537403122163744"
      ]
     },
     "execution_count": 37,
     "metadata": {},
     "output_type": "execute_result"
    }
   ],
   "source": [
    "from sklearn.metrics import roc_auc_score\n",
    "roc_auc_score(y_test, val_pred)"
   ]
  },
  {
   "cell_type": "markdown",
   "metadata": {},
   "source": [
    "### Submission Details"
   ]
  },
  {
   "cell_type": "markdown",
   "metadata": {},
   "source": [
    "Your RAMP submission should be in the folder \"submissions\" (e.g \"submissions/estimator.py\").\n",
    "\n",
    "The code we gave is a baseline that is made of a pre processing step and a prediction step. You can be creative and search for ways to improve the score !"
   ]
  }
 ],
 "metadata": {
  "kernelspec": {
   "display_name": "Python 3 (ipykernel)",
   "language": "python",
   "name": "python3"
  },
  "language_info": {
   "codemirror_mode": {
    "name": "ipython",
    "version": 3
   },
   "file_extension": ".py",
   "mimetype": "text/x-python",
   "name": "python",
   "nbconvert_exporter": "python",
   "pygments_lexer": "ipython3",
   "version": "3.10.7"
  },
  "vscode": {
   "interpreter": {
    "hash": "6aaa104a8c589bae4c6e6a336d22df6206a4f32b9a5c3b3292d637229e0c16a8"
   }
  }
 },
 "nbformat": 4,
 "nbformat_minor": 2
}
